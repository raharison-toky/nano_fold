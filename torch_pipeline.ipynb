{
 "cells": [
  {
   "cell_type": "code",
   "execution_count": 2,
   "metadata": {},
   "outputs": [
    {
     "name": "stderr",
     "output_type": "stream",
     "text": [
      "c:\\Users\\rahar\\anaconda3\\envs\\neuro\\lib\\site-packages\\torchaudio\\backend\\utils.py:74: UserWarning: No audio backend is available.\n",
      "  warnings.warn(\"No audio backend is available.\")\n"
     ]
    }
   ],
   "source": [
    "import math\n",
    "import matplotlib.pyplot as plt\n",
    "import seaborn as sns\n",
    "from typing import Sequence\n",
    "import numpy as np\n",
    "import torch\n",
    "from torch import nn\n",
    "from torch.nn import functional as F\n",
    "from pytorch_lightning.utilities.model_summary import ModelSummary\n",
    "import lightning\n",
    "from lightning.fabric import Fabric\n",
    "from dataclasses import dataclass\n",
    "import einx"
   ]
  },
  {
   "cell_type": "code",
   "execution_count": 3,
   "metadata": {},
   "outputs": [],
   "source": [
    "TRAINING_PATH = \"training_data/labels.txt\"\n",
    "DEVICE = \"cuda\"\n",
    "torch.set_float32_matmul_precision('medium')"
   ]
  },
  {
   "cell_type": "code",
   "execution_count": 4,
   "metadata": {},
   "outputs": [],
   "source": [
    "lines = []\n",
    "\n",
    "with open(TRAINING_PATH) as f:\n",
    "\tfor i in f:\n",
    "\t\tlines.append(i)\n",
    "\n",
    "n_sequences = len(lines)//3"
   ]
  },
  {
   "cell_type": "code",
   "execution_count": 5,
   "metadata": {},
   "outputs": [],
   "source": [
    "sequences = []\n",
    "\n",
    "for i in range(n_sequences):\n",
    "\tseq_id,seq_len = (lines[i*3]).split(\" | \")\n",
    "\tassert seq_id[0] == \">\"\n",
    "\tseq_id = seq_id[1:]\n",
    "\tseq_len = int(seq_len)\n",
    "\tseq = lines[i*3+1].strip()\n",
    "\tlabels = lines[i*3+2].strip()\n",
    "\n",
    "\tsequences.append([seq_id,seq,labels])\n"
   ]
  },
  {
   "cell_type": "code",
   "execution_count": 6,
   "metadata": {},
   "outputs": [],
   "source": [
    "d = {'CYS': 'C', 'ASP': 'D', 'SER': 'S', 'GLN': 'Q', 'LYS': 'K',\n",
    "     'ILE': 'I', 'PRO': 'P', 'THR': 'T', 'PHE': 'F', 'ASN': 'N', \n",
    "     'GLY': 'G', 'HIS': 'H', 'LEU': 'L', 'ARG': 'R', 'TRP': 'W', \n",
    "     'ALA': 'A', 'VAL':'V', 'GLU': 'E', 'TYR': 'Y', 'MET': 'M'}\n",
    "\n",
    "amino_acids = list(d.values())\n",
    "\n",
    "amino_to_int_dict = {i:idx+3 for idx,i in enumerate(amino_acids)}\n",
    "amino_to_int_dict[\"<PAD>\"] = 0\n",
    "amino_to_int_dict[\"<MASK>\"] = 1\n",
    "amino_to_int_dict[\"<END>\"] = 0\n",
    "int_to_amino_dict = {v:k for v,k in amino_to_int_dict.items()}\n",
    "\n",
    "secondary_to_int_dict = {\"<PAD>\":2,\"-\":0,\"H\":1,\"<END>\":0}\n",
    "int_to_secondary_dict = {v:k for v,k in secondary_to_int_dict.items()}"
   ]
  },
  {
   "cell_type": "code",
   "execution_count": 7,
   "metadata": {},
   "outputs": [],
   "source": [
    "def tokenize_from_dict(sequence,tokenizer_dict,length=None):\n",
    "\n",
    "\tif length is None:\n",
    "\t\tlength = len(sequence)\n",
    "\n",
    "\tseq = []\n",
    "\n",
    "\tfor i in range(length):\n",
    "\n",
    "\t\tif i>len(sequence):\n",
    "\t\t\tseq.append(tokenizer_dict[\"<PAD>\"])\n",
    "\t\telif i == len(sequence):\n",
    "\t\t\tseq.append(tokenizer_dict[\"<END>\"])\n",
    "\t\telse:\n",
    "\t\t\tseq.append(tokenizer_dict[sequence[i]])\n",
    "\n",
    "\treturn torch.tensor(seq)\n"
   ]
  },
  {
   "cell_type": "code",
   "execution_count": 8,
   "metadata": {},
   "outputs": [],
   "source": [
    "inputs = []\n",
    "labels = []\n",
    "\n",
    "l_max = 384\n",
    "\n",
    "for seq in sequences:\n",
    "\tif len(seq[1])<=l_max-1:\n",
    "\t\tinputs.append(tokenize_from_dict(seq[1],amino_to_int_dict,l_max))\n",
    "\t\tlabels.append(tokenize_from_dict(seq[2],secondary_to_int_dict,l_max))"
   ]
  },
  {
   "cell_type": "code",
   "execution_count": 9,
   "metadata": {},
   "outputs": [],
   "source": [
    "def get_xy(sequences,l_max):\n",
    "\n",
    "\tinputs = []\n",
    "\tlabels = []\n",
    "\n",
    "\tfor seq in sequences:\n",
    "\t\tif len(seq[1])<=l_max-1:\n",
    "\t\t\tinputs.append(tokenize_from_dict(seq[1],amino_to_int_dict,l_max))\n",
    "\t\t\tlabels.append(tokenize_from_dict(seq[2],secondary_to_int_dict,l_max))\n",
    "\n",
    "\treturn torch.stack(inputs),torch.stack(labels)"
   ]
  },
  {
   "cell_type": "code",
   "execution_count": 10,
   "metadata": {},
   "outputs": [],
   "source": [
    "inputs,labels = get_xy(sequences,384)"
   ]
  },
  {
   "cell_type": "code",
   "execution_count": 11,
   "metadata": {},
   "outputs": [
    {
     "data": {
      "text/plain": [
       "5326"
      ]
     },
     "execution_count": 11,
     "metadata": {},
     "output_type": "execute_result"
    }
   ],
   "source": [
    "len(sequences)"
   ]
  },
  {
   "cell_type": "code",
   "execution_count": 12,
   "metadata": {},
   "outputs": [],
   "source": [
    "@dataclass\n",
    "class ModelConfig:\n",
    "\tn_amino:int\n",
    "\tamino_dim:int\n",
    "\tn_heads:int\n",
    "\tn_layers:int\n",
    "\texpansion_factor:int"
   ]
  },
  {
   "cell_type": "code",
   "execution_count": 13,
   "metadata": {},
   "outputs": [],
   "source": [
    "class FactorizedConv(lightning.LightningModule):\n",
    "\n",
    "\tdef __init__(self,\n",
    "\t\t\t  in_dim,\n",
    "\t\t\t  feature,\n",
    "\t\t\t  kernel_size):\n",
    "\t\t\n",
    "\t\tsuper().__init__()\n",
    "\t\t\n",
    "\t\tself.conv = nn.Conv1d(in_dim,in_dim,kernel_size=kernel_size,\n",
    "\t\t\t\t\t\tgroups=in_dim,padding=(kernel_size//2))\n",
    "\t\tself.dense = nn.Conv1d(in_dim,feature,1)\n",
    "\t\n",
    "\tdef forward(self,x):\n",
    "\n",
    "\t\tx = einx.rearrange(\"b l d -> b d l\",x)\n",
    "\t\tx = self.conv(x)\n",
    "\t\tx = self.dense(x)\n",
    "\t\tx = einx.rearrange(\"b d l -> b l d\",x)\n",
    "\t\treturn x"
   ]
  },
  {
   "cell_type": "code",
   "execution_count": 14,
   "metadata": {},
   "outputs": [],
   "source": [
    "class MLP(lightning.LightningModule):\n",
    "\n",
    "\tdef __init__(self,\n",
    "\t\t\t  in_dim:int,\n",
    "\t\t\t  features:list[int],\n",
    "\t\t\t  kernel_size:int):\n",
    "\t\t\n",
    "\t\tsuper().__init__()\n",
    "\t\t\n",
    "\t\tlayers = []\n",
    "\n",
    "\t\tfor feature in features:\n",
    "\t\t\tlayers.append(FactorizedConv(in_dim,feature,kernel_size))\n",
    "\t\t\tin_dim = feature\n",
    "\n",
    "\t\tself.layers = nn.Sequential(*layers)\n",
    "\t\tself.ln = nn.LayerNorm(feature)\n",
    "\n",
    "\tdef forward(self,x):\n",
    "\n",
    "\t\tfor l in self.layers[:-1]:\n",
    "\t\t\tx = F.relu(l(x))\n",
    "\t\tx = self.ln(self.layers[-1](x))\n",
    "\t\treturn x"
   ]
  },
  {
   "cell_type": "code",
   "execution_count": 15,
   "metadata": {},
   "outputs": [],
   "source": [
    "def sin_pos_encode(x):\n",
    "\tembeddings = torch.zeros((x.shape)).to(x.device)\n",
    "\tbatch,length,dim = x.shape\n",
    "\tposition = torch.arange(0,length).to(x.device)\n",
    "\tomega = torch.exp(torch.arange(0,dim,2).to(x.device) * math.log(10000)/dim)\n",
    "\tembeddings[:,:,0::2] = torch.sin(einx.multiply(\"l,d -> l d\",position,omega))\n",
    "\tembeddings[:,:,1::2] = torch.cos(einx.multiply(\"l,d -> l d\",position,omega))\n",
    "\n",
    "\treturn embeddings + x\n"
   ]
  },
  {
   "cell_type": "code",
   "execution_count": 16,
   "metadata": {},
   "outputs": [],
   "source": [
    "\n",
    "class Rotary(torch.nn.Module):\n",
    "    def __init__(self, dim, base=10000):\n",
    "        super().__init__()\n",
    "        inv_freq = 1.0 / (base ** (torch.arange(0, dim, 2).float() / dim))\n",
    "        self.register_buffer(\"inv_freq\", inv_freq)\n",
    "        self.seq_len_cached = None\n",
    "        self.cos_cached = None\n",
    "        self.sin_cached = None\n",
    "\n",
    "    def forward(self, x, seq_dim=1):\n",
    "        seq_len = x.shape[seq_dim]\n",
    "        if seq_len != self.seq_len_cached:\n",
    "            self.seq_len_cached = seq_len\n",
    "            t = torch.arange(x.shape[seq_dim], device=x.device).type_as(self.inv_freq)\n",
    "            freqs = torch.einsum(\"i,j->ij\", t, self.inv_freq)\n",
    "            emb = torch.cat((freqs, freqs), dim=-1).to(x.device)\n",
    "            self.cos_cached = emb.cos()[:, None, None, :]\n",
    "            self.sin_cached = emb.sin()[:, None, None, :]\n",
    "        return self.cos_cached, self.sin_cached\n",
    "\n",
    "\n",
    "# rotary pos emb helpers:\n",
    "\n",
    "def rotate_half(x):\n",
    "    x1, x2 = x[..., : x.shape[-1] // 2], x[..., x.shape[-1] // 2 :]\n",
    "    return torch.cat(\n",
    "        (-x2, x1), dim=x1.ndim - 1\n",
    "    )  # dim=-1 triggers a bug in torch < 1.8.0\n",
    "\n",
    "\n",
    "@torch.jit.script\n",
    "def apply_rotary_pos_emb(q, k, cos, sin):\n",
    "    return (q * cos) + (rotate_half(q) * sin), (k * cos) + (rotate_half(k) * sin)"
   ]
  },
  {
   "cell_type": "code",
   "execution_count": 46,
   "metadata": {},
   "outputs": [],
   "source": [
    "class MaskedMHA(lightning.LightningModule):\n",
    "\n",
    "\tdef __init__(self,\n",
    "\t\t\t  hidden_dim:int,\n",
    "\t\t\t  heads:int):\n",
    "\t\t\n",
    "\t\tsuper().__init__()\n",
    "\t\t\n",
    "\t\tself.proj = nn.Linear(hidden_dim,hidden_dim*3)\n",
    "\t\tself.heads = heads\n",
    "\t\n",
    "\tdef forward(self,x,mask):\n",
    "\n",
    "\t\tproj = self.proj(x)\n",
    "\n",
    "\t\tq,k,v = einx.rearrange(\"b l (k d) -> k b l d\",proj,k=3)\n",
    "\n",
    "\t\tq = q * ((q.shape[-1] // self.heads) ** -0.5)\n",
    "\t\tattn = einx.dot(\"b q (h c), b k (h c) -> b q k h\", q, k, h=self.heads)\n",
    "\n",
    "\t\tattn = einx.where(\"b k, b q k h,\", mask, attn, -torch.inf)\n",
    "\n",
    "\t\tattn = einx.softmax(\"b q [k] h\", attn)\n",
    "\t\ty = einx.dot(\"b q k h, b k (h c) -> b q (h c)\", attn, v)\n",
    "\n",
    "\t\treturn x + y"
   ]
  },
  {
   "cell_type": "code",
   "execution_count": 157,
   "metadata": {},
   "outputs": [],
   "source": [
    "class ROPEMaskedMHA(lightning.LightningModule):\n",
    "\n",
    "\tdef __init__(self,\n",
    "\t\t\t  hidden_dim:int,\n",
    "\t\t\t  heads:int):\n",
    "\t\t\n",
    "\t\tsuper().__init__()\n",
    "\t\t\n",
    "\t\tself.proj = nn.Linear(hidden_dim,hidden_dim*3)\n",
    "\t\tself.heads = heads\n",
    "\t\tself.rope = Rotary(hidden_dim//heads)\n",
    "\n",
    "\t\n",
    "\tdef forward(self,x,mask):\n",
    "\n",
    "\t\tproj = self.proj(x)\n",
    "\n",
    "\t\tq,k,v = einx.rearrange(\"b l (k h d) -> k l b h d\",proj,k=3,h=self.heads)\n",
    "\n",
    "\t\tcos,sin = self.rope(x)\n",
    "\n",
    "\t\tq,k = apply_rotary_pos_emb(q,k,cos,sin)\n",
    "\n",
    "\t\tq = q * ((q.shape[-1]) ** -0.5)\n",
    "\t\tattn = einx.dot(\"l1 b h c, l2 b h c -> b l1 l2 h\", q, k, h=self.heads)\n",
    "\n",
    "\t\tattn = einx.where(\"b k, b q k h,\", mask, attn, -torch.inf)\n",
    "\n",
    "\t\tattn = einx.softmax(\"b q [k] h\", attn)\n",
    "\t\ty = einx.dot(\"b q k h, k b h c -> b q (h c)\", attn, v)\n",
    "\n",
    "\t\treturn x + y"
   ]
  },
  {
   "cell_type": "code",
   "execution_count": 158,
   "metadata": {},
   "outputs": [],
   "source": [
    "class EncoderBlock(lightning.LightningModule):\n",
    "\n",
    "\tdef __init__(self,\n",
    "\t\t\t  hidden_dim:int,\n",
    "\t\t\t  heads:int,\n",
    "\t\t\t  expansion_factor:int):\n",
    "\t\t\n",
    "\t\tsuper().__init__()\n",
    "\t\t\n",
    "\t\tself.mha = ROPEMaskedMHA(hidden_dim,heads)\n",
    "\t\tself.mlp = MLP(hidden_dim,[hidden_dim*expansion_factor,hidden_dim],kernel_size=3)\n",
    "\t\tself.mha_ln = nn.LayerNorm(hidden_dim)\n",
    "\t\tself.mlp_ln = nn.LayerNorm(hidden_dim)\n",
    "\t\tself.drop = nn.Dropout(0.1)\n",
    "\n",
    "\tdef forward(self,x,mask):\n",
    "\n",
    "\t\tx = x + self.drop(self.mha_ln(self.mha(x,mask))) + self.drop(self.mlp_ln(self.mlp(x)))\n",
    "\t\treturn x"
   ]
  },
  {
   "cell_type": "code",
   "execution_count": 159,
   "metadata": {},
   "outputs": [],
   "source": [
    "encoder = EncoderBlock(32,4,2)\n",
    "x = torch.randn((16,384,32))\n",
    "mask = torch.ones((16,384),dtype=bool)"
   ]
  },
  {
   "cell_type": "code",
   "execution_count": 161,
   "metadata": {},
   "outputs": [],
   "source": [
    "class Transformer(lightning.LightningModule):\n",
    "\n",
    "\tdef __init__(self,\n",
    "\t\t\t  n_amino:int,\n",
    "\t\t\t  amino_dim:int,\n",
    "\t\t\t  n_heads:int,\n",
    "\t\t\t  n_layers:int,\n",
    "\t\t\t  hidden_dim:int,\n",
    "\t\t\t  expansion_factor:int):\n",
    "\t\t\n",
    "\t\tsuper().__init__()\n",
    "\t\t\n",
    "\t\tself.embeddings = nn.Embedding(n_amino,amino_dim)\n",
    "\t\tlayers = []\n",
    "\n",
    "\t\tfor _ in range(n_layers):\n",
    "\t\t\tlayers.append(EncoderBlock(hidden_dim,n_heads,expansion_factor))\n",
    "\n",
    "\t\tself.layers = nn.Sequential(*layers)\n",
    "\t\tself.masked_lm_head = nn.Linear(hidden_dim,n_amino)\n",
    "\t\tself.structure_head = nn.Linear(hidden_dim,2)\n",
    "\n",
    "\tdef forward(self,x,mask):\n",
    "\n",
    "\t\tx = self.embeddings(x)\n",
    "\t\tx = sin_pos_encode(x)\n",
    "\n",
    "\t\tfor h in self.layers:\n",
    "\t\t\tx = h(x,mask)\n",
    "\n",
    "\t\treturn x\n",
    "\t\n",
    "\tdef lm_forward(self,x,mask):\n",
    "\n",
    "\t\tx = self(x,mask)\n",
    "\t\tx = self.masked_lm_head(x)\n",
    "\t\treturn x\n",
    "\t\n",
    "\tdef structure_forward(self,x,mask):\n",
    "\n",
    "\t\tx = self(x,mask)\n",
    "\t\tx = self.structure_head(x)\n",
    "\t\treturn x"
   ]
  },
  {
   "cell_type": "code",
   "execution_count": 162,
   "metadata": {},
   "outputs": [],
   "source": [
    "class Hyena(lightning.LightningModule):\n",
    "\n",
    "\tdef __init__(self,\n",
    "\t\t\t  hidden_dim:int,\n",
    "\t\t\t  kernel_size:int):\n",
    "\t\t\n",
    "\t\tsuper().__init__()\n",
    "\t\t\n",
    "\t\tself.k1 = nn.Conv1d(hidden_dim,hidden_dim,kernel_size,\n",
    "\t\t\t\t\t  groups=hidden_dim,padding=kernel_size//2)\n",
    "\t\tself.k2 = nn.Conv1d(hidden_dim,hidden_dim,kernel_size,\n",
    "\t\t\t\t\t  groups=hidden_dim,padding=kernel_size//2)\n",
    "\t\t\n",
    "\t\tself.proj  = nn.Linear(hidden_dim,3*hidden_dim)\n",
    "\n",
    "\tdef forward(self,x,mask):\n",
    "\n",
    "\t\tproj = self.proj(x)\n",
    "\t\tq,k,v = einx.rearrange(\"b l (k d) -> k b d l\",proj,k=3)\n",
    "\t\ty = F.sigmoid(self.k1(q))\n",
    "\t\ty =  v*self.k2(k*y)\n",
    "\t\ty = einx.rearrange(\"b d l -> b l d\",y)\n",
    "\t\treturn y\n"
   ]
  },
  {
   "cell_type": "code",
   "execution_count": 163,
   "metadata": {},
   "outputs": [],
   "source": [
    "class HyenaBlock(lightning.LightningModule):\n",
    "\n",
    "\tdef __init__(self,\n",
    "\t\t\t  hidden_dim:int,\n",
    "\t\t\t  kernel_size:int):\n",
    "\n",
    "\t\tsuper().__init__()\n",
    "\n",
    "\t\tself.hyena_operator = Hyena(hidden_dim,kernel_size)\n",
    "\t\tself.mlp = MLP(hidden_dim,[hidden_dim,hidden_dim],3)\n",
    "\t\tself.ln = nn.LayerNorm(hidden_dim)\n",
    "\t\tself.drop = nn.Dropout(0.1)\n",
    "\n",
    "\tdef forward(self,x,mask):\n",
    "\n",
    "\t\tx = x + self.drop(self.ln(self.hyena_operator(x,mask))) + self.drop(self.ln(self.mlp(x)))\n",
    "\t\treturn x"
   ]
  },
  {
   "cell_type": "code",
   "execution_count": 164,
   "metadata": {},
   "outputs": [],
   "source": [
    "class HyenaFormer(lightning.LightningModule):\n",
    "\n",
    "\tdef __init__(self,\n",
    "\t\t\t  n_amino:int,\n",
    "\t\t\t  amino_dim:int,\n",
    "\t\t\t  kernel_size:int,\n",
    "\t\t\t  n_layers:int):\n",
    "\n",
    "\t\tsuper().__init__()\n",
    "\t\t\n",
    "\t\tself.embeddings = nn.Embedding(n_amino,amino_dim)\n",
    "\t\tlayers = []\n",
    "\n",
    "\t\tfor _ in range(n_layers):\n",
    "\t\t\tlayers.append(HyenaBlock(amino_dim,kernel_size))\n",
    "\n",
    "\t\tself.layers = nn.Sequential(*layers)\n",
    "\t\tself.masked_lm_head = nn.Linear(amino_dim,n_amino)\n",
    "\t\tself.structure_head = nn.Linear(amino_dim,2)\n",
    "\n",
    "\tdef forward(self,x,mask):\n",
    "\n",
    "\t\tx = self.embeddings(x)\n",
    "\n",
    "\t\tfor h in self.layers:\n",
    "\t\t\tx = h(x,mask)\n",
    "\n",
    "\t\treturn x\n",
    "\t\n",
    "\tdef lm_forward(self,x,mask):\n",
    "\n",
    "\t\tx = self(x,mask)\n",
    "\t\tx = self.masked_lm_head(x)\n",
    "\t\treturn x\n",
    "\t\n",
    "\tdef structure_forward(self,x,mask):\n",
    "\n",
    "\t\tx = self(x,mask)\n",
    "\t\tx = self.structure_head(x)\n",
    "\t\treturn x"
   ]
  },
  {
   "cell_type": "code",
   "execution_count": 165,
   "metadata": {},
   "outputs": [],
   "source": [
    "class StrippedHyena(lightning.LightningModule):\n",
    "\n",
    "\tdef __init__(self,\n",
    "\t\t\t  n_amino:int,\n",
    "\t\t\t  amino_dim:int,\n",
    "\t\t\t  kernel_size:int,\n",
    "\t\t\t  n_layers:int):\n",
    "\n",
    "\t\tsuper().__init__()\n",
    "\t\t\n",
    "\t\tself.embeddings = nn.Embedding(n_amino,amino_dim)\n",
    "\t\tlayers = []\n",
    "\n",
    "\t\tfor _ in range(n_layers//2):\n",
    "\t\t\tlayers.append(HyenaBlock(amino_dim,kernel_size))\n",
    "\t\t\tlayers.append(EncoderBlock(amino_dim,4,2))\n",
    "\n",
    "\t\tself.layers = nn.Sequential(*layers)\n",
    "\t\tself.masked_lm_head = nn.Linear(amino_dim,n_amino)\n",
    "\t\tself.structure_head = nn.Linear(amino_dim,2)\n",
    "\n",
    "\tdef forward(self,x,mask):\n",
    "\n",
    "\t\tx = self.embeddings(x)\n",
    "\n",
    "\t\tfor h in self.layers:\n",
    "\t\t\tx = h(x,mask)\n",
    "\n",
    "\t\treturn x\n",
    "\t\n",
    "\tdef lm_forward(self,x,mask):\n",
    "\n",
    "\t\tx = self(x,mask)\n",
    "\t\tx = self.masked_lm_head(x)\n",
    "\t\treturn x\n",
    "\t\n",
    "\tdef structure_forward(self,x,mask):\n",
    "\n",
    "\t\tx = self(x,mask)\n",
    "\t\tx = self.structure_head(x)\n",
    "\t\treturn x"
   ]
  },
  {
   "cell_type": "code",
   "execution_count": 166,
   "metadata": {},
   "outputs": [],
   "source": [
    "class CNN(lightning.LightningModule):\n",
    "\n",
    "\tdef __init__(self,\n",
    "\t\t\tn_amino:int,\n",
    "\t\t\tamino_dim:int,\n",
    "\t\t\tn_layers:int,\n",
    "\t\t\tkernel_size:int):\n",
    "\t\t\n",
    "\t\tsuper().__init__()\n",
    "\t\t\n",
    "\t\tself.embeddings = nn.Embedding(n_amino,amino_dim)\n",
    "\t\tlayers = []\n",
    "\n",
    "\t\tfor _ in range(n_layers):\n",
    "\t\t\tlayers.append(FactorizedConv(amino_dim,amino_dim,kernel_size))\n",
    "\t\t\t#layers.append(nn.Conv1d(amino_dim,amino_dim,kernel_size,padding=kernel_size//2))\n",
    "\n",
    "\t\tself.layers = nn.Sequential(*layers)\n",
    "\t\tself.masked_lm_head = nn.Linear(amino_dim,n_amino)\n",
    "\t\tself.structure_head = nn.Linear(amino_dim,2)\n",
    "\t\tself.drop = nn.Dropout(0.1)\n",
    "\n",
    "\tdef forward(self,x,mask):\n",
    "\n",
    "\t\tx = self.embeddings(x)\n",
    "\n",
    "\t\t#x = einx.rearrange(\"b l d -> b d l\",x)\n",
    "\t\tfor h in self.layers:\n",
    "\t\t\tx = F.relu(self.drop(h(x)))\n",
    "\n",
    "\t\t#x = einx.rearrange(\"b d l -> b l d\",x)\n",
    "\n",
    "\t\treturn x\n",
    "\t\n",
    "\tdef lm_forward(self,x,mask):\n",
    "\n",
    "\t\tx = self(x,mask)\n",
    "\t\tx = self.masked_lm_head(x)\n",
    "\t\treturn x\n",
    "\t\n",
    "\tdef structure_forward(self,x,mask):\n",
    "\n",
    "\t\tx = self(x,mask)\n",
    "\t\tx = self.structure_head(x)\n",
    "\t\treturn x\n"
   ]
  },
  {
   "cell_type": "code",
   "execution_count": 167,
   "metadata": {},
   "outputs": [],
   "source": [
    "class LSTM(lightning.LightningModule):\n",
    "\n",
    "\tdef __init__(self,\n",
    "\t\t\tn_amino:int,\n",
    "\t\t\tamino_dim:int,\n",
    "\t\t\tn_layers:int,):\n",
    "\t\t\n",
    "\t\tsuper().__init__()\n",
    "\t\t\n",
    "\t\tself.embeddings = nn.Embedding(n_amino,amino_dim)\n",
    "\t\tself.layers = nn.LSTM(amino_dim,amino_dim,n_layers,batch_first=True,\n",
    "\t\t\t\t\t\tbidirectional=True)\n",
    "\t\tself.masked_lm_head = nn.Linear(amino_dim*2,n_amino)\n",
    "\t\tself.structure_head = nn.Linear(amino_dim*2,2)\n",
    "\n",
    "\tdef forward(self,x,mask):\n",
    "\n",
    "\t\tx = self.embeddings(x)\n",
    "\t\tout,(h,c) = self.layers(x)\n",
    "\t\treturn out\n",
    "\t\n",
    "\tdef lm_forward(self,x,mask):\n",
    "\n",
    "\t\tx = self(x,mask)\n",
    "\t\tx = self.masked_lm_head(x)\n",
    "\t\treturn x\n",
    "\t\n",
    "\tdef structure_forward(self,x,mask):\n",
    "\n",
    "\t\tx = self(x,mask)\n",
    "\t\tx = self.structure_head(x)\n",
    "\t\treturn x\n"
   ]
  },
  {
   "cell_type": "code",
   "execution_count": 197,
   "metadata": {},
   "outputs": [],
   "source": [
    "model = Transformer(\n",
    "\tn_amino=len(amino_to_int_dict),\n",
    "\tamino_dim=32,\n",
    "\thidden_dim=32,\n",
    "\tn_heads=4,\n",
    "\tn_layers=6,\n",
    "\texpansion_factor=2\n",
    ")\n",
    "\n",
    "cnn_model = CNN(len(amino_to_int_dict),32,8,5)\n",
    "\n",
    "lstm_model = LSTM(len(amino_to_int_dict),32,2)\n",
    "\n",
    "hyena_model = StrippedHyena(len(amino_to_int_dict),64,31,8)\n"
   ]
  },
  {
   "cell_type": "code",
   "execution_count": 198,
   "metadata": {},
   "outputs": [
    {
     "data": {
      "text/plain": [
       "StrippedHyena(\n",
       "  (embeddings): Embedding(23, 64)\n",
       "  (layers): Sequential(\n",
       "    (0): HyenaBlock(\n",
       "      (hyena_operator): Hyena(\n",
       "        (k1): Conv1d(64, 64, kernel_size=(31,), stride=(1,), padding=(15,), groups=64)\n",
       "        (k2): Conv1d(64, 64, kernel_size=(31,), stride=(1,), padding=(15,), groups=64)\n",
       "        (proj): Linear(in_features=64, out_features=192, bias=True)\n",
       "      )\n",
       "      (mlp): MLP(\n",
       "        (layers): Sequential(\n",
       "          (0): FactorizedConv(\n",
       "            (conv): Conv1d(64, 64, kernel_size=(3,), stride=(1,), padding=(1,), groups=64)\n",
       "            (dense): Conv1d(64, 64, kernel_size=(1,), stride=(1,))\n",
       "          )\n",
       "          (1): FactorizedConv(\n",
       "            (conv): Conv1d(64, 64, kernel_size=(3,), stride=(1,), padding=(1,), groups=64)\n",
       "            (dense): Conv1d(64, 64, kernel_size=(1,), stride=(1,))\n",
       "          )\n",
       "        )\n",
       "        (ln): LayerNorm((64,), eps=1e-05, elementwise_affine=True)\n",
       "      )\n",
       "      (ln): LayerNorm((64,), eps=1e-05, elementwise_affine=True)\n",
       "      (drop): Dropout(p=0.1, inplace=False)\n",
       "    )\n",
       "    (1): EncoderBlock(\n",
       "      (mha): ROPEMaskedMHA(\n",
       "        (proj): Linear(in_features=64, out_features=192, bias=True)\n",
       "        (rope): Rotary()\n",
       "      )\n",
       "      (mlp): MLP(\n",
       "        (layers): Sequential(\n",
       "          (0): FactorizedConv(\n",
       "            (conv): Conv1d(64, 64, kernel_size=(3,), stride=(1,), padding=(1,), groups=64)\n",
       "            (dense): Conv1d(64, 128, kernel_size=(1,), stride=(1,))\n",
       "          )\n",
       "          (1): FactorizedConv(\n",
       "            (conv): Conv1d(128, 128, kernel_size=(3,), stride=(1,), padding=(1,), groups=128)\n",
       "            (dense): Conv1d(128, 64, kernel_size=(1,), stride=(1,))\n",
       "          )\n",
       "        )\n",
       "        (ln): LayerNorm((64,), eps=1e-05, elementwise_affine=True)\n",
       "      )\n",
       "      (mha_ln): LayerNorm((64,), eps=1e-05, elementwise_affine=True)\n",
       "      (mlp_ln): LayerNorm((64,), eps=1e-05, elementwise_affine=True)\n",
       "      (drop): Dropout(p=0.1, inplace=False)\n",
       "    )\n",
       "    (2): HyenaBlock(\n",
       "      (hyena_operator): Hyena(\n",
       "        (k1): Conv1d(64, 64, kernel_size=(31,), stride=(1,), padding=(15,), groups=64)\n",
       "        (k2): Conv1d(64, 64, kernel_size=(31,), stride=(1,), padding=(15,), groups=64)\n",
       "        (proj): Linear(in_features=64, out_features=192, bias=True)\n",
       "      )\n",
       "      (mlp): MLP(\n",
       "        (layers): Sequential(\n",
       "          (0): FactorizedConv(\n",
       "            (conv): Conv1d(64, 64, kernel_size=(3,), stride=(1,), padding=(1,), groups=64)\n",
       "            (dense): Conv1d(64, 64, kernel_size=(1,), stride=(1,))\n",
       "          )\n",
       "          (1): FactorizedConv(\n",
       "            (conv): Conv1d(64, 64, kernel_size=(3,), stride=(1,), padding=(1,), groups=64)\n",
       "            (dense): Conv1d(64, 64, kernel_size=(1,), stride=(1,))\n",
       "          )\n",
       "        )\n",
       "        (ln): LayerNorm((64,), eps=1e-05, elementwise_affine=True)\n",
       "      )\n",
       "      (ln): LayerNorm((64,), eps=1e-05, elementwise_affine=True)\n",
       "      (drop): Dropout(p=0.1, inplace=False)\n",
       "    )\n",
       "    (3): EncoderBlock(\n",
       "      (mha): ROPEMaskedMHA(\n",
       "        (proj): Linear(in_features=64, out_features=192, bias=True)\n",
       "        (rope): Rotary()\n",
       "      )\n",
       "      (mlp): MLP(\n",
       "        (layers): Sequential(\n",
       "          (0): FactorizedConv(\n",
       "            (conv): Conv1d(64, 64, kernel_size=(3,), stride=(1,), padding=(1,), groups=64)\n",
       "            (dense): Conv1d(64, 128, kernel_size=(1,), stride=(1,))\n",
       "          )\n",
       "          (1): FactorizedConv(\n",
       "            (conv): Conv1d(128, 128, kernel_size=(3,), stride=(1,), padding=(1,), groups=128)\n",
       "            (dense): Conv1d(128, 64, kernel_size=(1,), stride=(1,))\n",
       "          )\n",
       "        )\n",
       "        (ln): LayerNorm((64,), eps=1e-05, elementwise_affine=True)\n",
       "      )\n",
       "      (mha_ln): LayerNorm((64,), eps=1e-05, elementwise_affine=True)\n",
       "      (mlp_ln): LayerNorm((64,), eps=1e-05, elementwise_affine=True)\n",
       "      (drop): Dropout(p=0.1, inplace=False)\n",
       "    )\n",
       "    (4): HyenaBlock(\n",
       "      (hyena_operator): Hyena(\n",
       "        (k1): Conv1d(64, 64, kernel_size=(31,), stride=(1,), padding=(15,), groups=64)\n",
       "        (k2): Conv1d(64, 64, kernel_size=(31,), stride=(1,), padding=(15,), groups=64)\n",
       "        (proj): Linear(in_features=64, out_features=192, bias=True)\n",
       "      )\n",
       "      (mlp): MLP(\n",
       "        (layers): Sequential(\n",
       "          (0): FactorizedConv(\n",
       "            (conv): Conv1d(64, 64, kernel_size=(3,), stride=(1,), padding=(1,), groups=64)\n",
       "            (dense): Conv1d(64, 64, kernel_size=(1,), stride=(1,))\n",
       "          )\n",
       "          (1): FactorizedConv(\n",
       "            (conv): Conv1d(64, 64, kernel_size=(3,), stride=(1,), padding=(1,), groups=64)\n",
       "            (dense): Conv1d(64, 64, kernel_size=(1,), stride=(1,))\n",
       "          )\n",
       "        )\n",
       "        (ln): LayerNorm((64,), eps=1e-05, elementwise_affine=True)\n",
       "      )\n",
       "      (ln): LayerNorm((64,), eps=1e-05, elementwise_affine=True)\n",
       "      (drop): Dropout(p=0.1, inplace=False)\n",
       "    )\n",
       "    (5): EncoderBlock(\n",
       "      (mha): ROPEMaskedMHA(\n",
       "        (proj): Linear(in_features=64, out_features=192, bias=True)\n",
       "        (rope): Rotary()\n",
       "      )\n",
       "      (mlp): MLP(\n",
       "        (layers): Sequential(\n",
       "          (0): FactorizedConv(\n",
       "            (conv): Conv1d(64, 64, kernel_size=(3,), stride=(1,), padding=(1,), groups=64)\n",
       "            (dense): Conv1d(64, 128, kernel_size=(1,), stride=(1,))\n",
       "          )\n",
       "          (1): FactorizedConv(\n",
       "            (conv): Conv1d(128, 128, kernel_size=(3,), stride=(1,), padding=(1,), groups=128)\n",
       "            (dense): Conv1d(128, 64, kernel_size=(1,), stride=(1,))\n",
       "          )\n",
       "        )\n",
       "        (ln): LayerNorm((64,), eps=1e-05, elementwise_affine=True)\n",
       "      )\n",
       "      (mha_ln): LayerNorm((64,), eps=1e-05, elementwise_affine=True)\n",
       "      (mlp_ln): LayerNorm((64,), eps=1e-05, elementwise_affine=True)\n",
       "      (drop): Dropout(p=0.1, inplace=False)\n",
       "    )\n",
       "    (6): HyenaBlock(\n",
       "      (hyena_operator): Hyena(\n",
       "        (k1): Conv1d(64, 64, kernel_size=(31,), stride=(1,), padding=(15,), groups=64)\n",
       "        (k2): Conv1d(64, 64, kernel_size=(31,), stride=(1,), padding=(15,), groups=64)\n",
       "        (proj): Linear(in_features=64, out_features=192, bias=True)\n",
       "      )\n",
       "      (mlp): MLP(\n",
       "        (layers): Sequential(\n",
       "          (0): FactorizedConv(\n",
       "            (conv): Conv1d(64, 64, kernel_size=(3,), stride=(1,), padding=(1,), groups=64)\n",
       "            (dense): Conv1d(64, 64, kernel_size=(1,), stride=(1,))\n",
       "          )\n",
       "          (1): FactorizedConv(\n",
       "            (conv): Conv1d(64, 64, kernel_size=(3,), stride=(1,), padding=(1,), groups=64)\n",
       "            (dense): Conv1d(64, 64, kernel_size=(1,), stride=(1,))\n",
       "          )\n",
       "        )\n",
       "        (ln): LayerNorm((64,), eps=1e-05, elementwise_affine=True)\n",
       "      )\n",
       "      (ln): LayerNorm((64,), eps=1e-05, elementwise_affine=True)\n",
       "      (drop): Dropout(p=0.1, inplace=False)\n",
       "    )\n",
       "    (7): EncoderBlock(\n",
       "      (mha): ROPEMaskedMHA(\n",
       "        (proj): Linear(in_features=64, out_features=192, bias=True)\n",
       "        (rope): Rotary()\n",
       "      )\n",
       "      (mlp): MLP(\n",
       "        (layers): Sequential(\n",
       "          (0): FactorizedConv(\n",
       "            (conv): Conv1d(64, 64, kernel_size=(3,), stride=(1,), padding=(1,), groups=64)\n",
       "            (dense): Conv1d(64, 128, kernel_size=(1,), stride=(1,))\n",
       "          )\n",
       "          (1): FactorizedConv(\n",
       "            (conv): Conv1d(128, 128, kernel_size=(3,), stride=(1,), padding=(1,), groups=128)\n",
       "            (dense): Conv1d(128, 64, kernel_size=(1,), stride=(1,))\n",
       "          )\n",
       "        )\n",
       "        (ln): LayerNorm((64,), eps=1e-05, elementwise_affine=True)\n",
       "      )\n",
       "      (mha_ln): LayerNorm((64,), eps=1e-05, elementwise_affine=True)\n",
       "      (mlp_ln): LayerNorm((64,), eps=1e-05, elementwise_affine=True)\n",
       "      (drop): Dropout(p=0.1, inplace=False)\n",
       "    )\n",
       "  )\n",
       "  (masked_lm_head): Linear(in_features=64, out_features=23, bias=True)\n",
       "  (structure_head): Linear(in_features=64, out_features=2, bias=True)\n",
       ")"
      ]
     },
     "execution_count": 198,
     "metadata": {},
     "output_type": "execute_result"
    }
   ],
   "source": [
    "hyena_model"
   ]
  },
  {
   "cell_type": "code",
   "execution_count": 199,
   "metadata": {},
   "outputs": [
    {
     "data": {
      "text/plain": [
       "  | Name           | Type       | Params\n",
       "----------------------------------------------\n",
       "0 | embeddings     | Embedding  | 1.5 K \n",
       "1 | layers         | Sequential | 223 K \n",
       "2 | masked_lm_head | Linear     | 1.5 K \n",
       "3 | structure_head | Linear     | 130   \n",
       "----------------------------------------------\n",
       "226 K     Trainable params\n",
       "0         Non-trainable params\n",
       "226 K     Total params\n",
       "0.906     Total estimated model params size (MB)"
      ]
     },
     "execution_count": 199,
     "metadata": {},
     "output_type": "execute_result"
    }
   ],
   "source": [
    "ModelSummary(hyena_model)"
   ]
  },
  {
   "cell_type": "code",
   "execution_count": 200,
   "metadata": {},
   "outputs": [
    {
     "data": {
      "text/plain": [
       "  | Name           | Type      | Params\n",
       "---------------------------------------------\n",
       "0 | embeddings     | Embedding | 736   \n",
       "1 | layers         | LSTM      | 42.0 K\n",
       "2 | masked_lm_head | Linear    | 1.5 K \n",
       "3 | structure_head | Linear    | 130   \n",
       "---------------------------------------------\n",
       "44.3 K    Trainable params\n",
       "0         Non-trainable params\n",
       "44.3 K    Total params\n",
       "0.177     Total estimated model params size (MB)"
      ]
     },
     "execution_count": 200,
     "metadata": {},
     "output_type": "execute_result"
    }
   ],
   "source": [
    "ModelSummary(lstm_model)"
   ]
  },
  {
   "cell_type": "code",
   "execution_count": 201,
   "metadata": {},
   "outputs": [
    {
     "data": {
      "text/plain": [
       "  | Name           | Type       | Params\n",
       "----------------------------------------------\n",
       "0 | embeddings     | Embedding  | 736   \n",
       "1 | layers         | Sequential | 10.0 K\n",
       "2 | masked_lm_head | Linear     | 759   \n",
       "3 | structure_head | Linear     | 66    \n",
       "4 | drop           | Dropout    | 0     \n",
       "----------------------------------------------\n",
       "11.5 K    Trainable params\n",
       "0         Non-trainable params\n",
       "11.5 K    Total params\n",
       "0.046     Total estimated model params size (MB)"
      ]
     },
     "execution_count": 201,
     "metadata": {},
     "output_type": "execute_result"
    }
   ],
   "source": [
    "ModelSummary(cnn_model)"
   ]
  },
  {
   "cell_type": "code",
   "execution_count": 202,
   "metadata": {},
   "outputs": [
    {
     "data": {
      "text/plain": [
       "  | Name           | Type       | Params\n",
       "----------------------------------------------\n",
       "0 | embeddings     | Embedding  | 736   \n",
       "1 | layers         | Sequential | 47.6 K\n",
       "2 | masked_lm_head | Linear     | 759   \n",
       "3 | structure_head | Linear     | 66    \n",
       "----------------------------------------------\n",
       "49.2 K    Trainable params\n",
       "0         Non-trainable params\n",
       "49.2 K    Total params\n",
       "0.197     Total estimated model params size (MB)"
      ]
     },
     "execution_count": 202,
     "metadata": {},
     "output_type": "execute_result"
    }
   ],
   "source": [
    "ModelSummary(model)"
   ]
  },
  {
   "cell_type": "code",
   "execution_count": 203,
   "metadata": {},
   "outputs": [],
   "source": [
    "def one_hot(x, num_classes):\n",
    "    return torch.eye(num_classes).to(x.device)[x]\n"
   ]
  },
  {
   "cell_type": "code",
   "execution_count": 204,
   "metadata": {},
   "outputs": [],
   "source": [
    "\n",
    "def masked_accuracy(logits, labels, mask):\n",
    "    predictions = torch.argmax(logits, axis=-1)\n",
    "    correct_predictions = (predictions == labels) * mask\n",
    "    accuracy = torch.sum(correct_predictions) / torch.sum(mask)\n",
    "    return accuracy"
   ]
  },
  {
   "cell_type": "code",
   "execution_count": 205,
   "metadata": {},
   "outputs": [],
   "source": [
    "def train_val_split(x,y,p):\n",
    "\n",
    "\tpermutations = torch.randperm(len(x))\n",
    "\tp = int(len(x)*p)\n",
    "\n",
    "\treturn x[permutations[:p]],y[permutations[:p]],x[permutations[p:]],y[permutations[p:]]"
   ]
  },
  {
   "cell_type": "code",
   "execution_count": 206,
   "metadata": {},
   "outputs": [],
   "source": [
    "x_test,y_test,x_train,y_train = train_val_split(inputs,labels,0.05)"
   ]
  },
  {
   "cell_type": "code",
   "execution_count": 207,
   "metadata": {},
   "outputs": [],
   "source": [
    "def get_batch_idx(n:int,\n",
    "\t\t\t\t  batch_size:int,\n",
    "\t\t\t\t  shuffle:bool=True):\n",
    "\n",
    "\tif shuffle:\n",
    "\t\tpermutations = torch.randperm(n)\n",
    "\telse:\n",
    "\t\tpermutations = torch.arange(n)\n",
    "\t\n",
    "\tpermutations = permutations[0:batch_size*(n//batch_size)]\n",
    "\tbatches = einx.rearrange(\"(n b) -> n b\",permutations,b=batch_size)\n",
    "\n",
    "\treturn batches"
   ]
  },
  {
   "cell_type": "code",
   "execution_count": 208,
   "metadata": {},
   "outputs": [],
   "source": [
    "def mask_from_list(x,values):\n",
    "\n",
    "\tmask = torch.zeros_like(x,dtype=torch.bool)\n",
    "\n",
    "\tfor i in values:\n",
    "\t\tmask += (x == i)\n",
    "\n",
    "\treturn mask"
   ]
  },
  {
   "cell_type": "code",
   "execution_count": 209,
   "metadata": {},
   "outputs": [],
   "source": [
    "def torch_train(fabric,\n",
    "\t\t\t\tmodel:Transformer,\n",
    "\t\t\t\tmask_function,\n",
    "\t\t\t\tx_train,\n",
    "\t\t\t\ty_train,\n",
    "\t\t\t\tx_test,\n",
    "\t\t\t\ty_test,\n",
    "\t\t\t\tbatch_size,\n",
    "\t\t\t\tn_epochs,):\n",
    "\t\n",
    "\tloss_fn = nn.CrossEntropyLoss(reduce=True,ignore_index=-100)\n",
    "\t\n",
    "\tdef loss_acc(fabric,\n",
    "\t\t\t  model,\n",
    "\t\t\t  x_batch,\n",
    "\t\t\t  y_batch,\n",
    "\t\t\t  model_mask,\n",
    "\t\t\t  loss_mask):\n",
    "\t\t\t\n",
    "\t\twith fabric.autocast():\n",
    "\n",
    "\t\t\tx_batch = x_batch.to(DEVICE)\n",
    "\t\t\ty_batch = y_batch.to(DEVICE)\n",
    "\t\t\tmodel_mask = model_mask.to(DEVICE)\n",
    "\t\t\tloss_mask = loss_mask.to(DEVICE)\n",
    "\t\t\n",
    "\t\t\ty_pred = model.structure_forward(x_batch,model_mask)\n",
    "\t\t\ty_batch[torch.logical_not(loss_mask)] = -100\n",
    "\t\t\tloss = loss_fn(einx.rearrange(\"b l c -> b c l\",y_pred),y_batch)\n",
    "\t\t\tacc = masked_accuracy(y_pred,y_batch,loss_mask)\n",
    "\t\treturn loss,acc\n",
    "\n",
    "\t\n",
    "\tdef val_loop(fabric,\n",
    "\t\t\t  model:Transformer,\n",
    "\t\t\t  x_test,\n",
    "\t\t\t  y_test,\n",
    "\t\t\t  batch_size,):\n",
    "\t\t\n",
    "\t\t\n",
    "\t\tbatches = get_batch_idx(len(x_test),batch_size,False)\n",
    "\n",
    "\t\tval_losses = []\n",
    "\t\tval_acc = []\n",
    "\n",
    "\t\tmodel.eval()\n",
    "\n",
    "\t\twith torch.no_grad():\n",
    "\n",
    "\t\t\tfor b,indices in enumerate(batches):\n",
    "\n",
    "\t\t\t\tx_batch = x_test[indices]\n",
    "\t\t\t\ty_batch = y_test[indices]\n",
    "\n",
    "\t\t\t\tpad_mask = mask_from_list(x_batch,[0,1])\n",
    "\n",
    "\t\t\t\tmasked = mask_function(pad_mask)\n",
    "\n",
    "\t\t\t\tloss,acc = loss_acc(fabric,model,x_batch,y_batch,masked,masked)\n",
    "\t\t\t\tval_losses.append(loss.item())\n",
    "\t\t\t\tval_acc.append(acc.item())\n",
    "\n",
    "\t\tmodel.train()\n",
    "\n",
    "\t\treturn np.mean(val_losses),np.mean(val_acc)\n",
    "\t\n",
    "\toptimizer = torch.optim.AdamW(model.parameters(),\n",
    "\t\t\t\t\t\t\t   lr=1E-3,\n",
    "\t\t\t\t\t\t\t   weight_decay=1E-1)\n",
    "\t\n",
    "\tmodel,optimizer = fabric.setup(model,optimizer)\n",
    "\n",
    "\tval_acc_results = []\n",
    "\ttrain_acc_results = []\n",
    "\n",
    "\tfor epoch in range(n_epochs):\n",
    "\n",
    "\t\tbatches = get_batch_idx(len(x_train),batch_size,True)\n",
    "\n",
    "\t\tlosses = []\n",
    "\t\taccuracies = []\n",
    "\n",
    "\t\tfor b,indices in enumerate(batches):\n",
    "\n",
    "\t\t\tx_batch = x_train[indices]\n",
    "\t\t\ty_batch = y_train[indices]\n",
    "\n",
    "\t\t\t# mask pad tokens\n",
    "\n",
    "\t\t\tpad_mask = mask_from_list(x_batch,[0,1])\n",
    "\n",
    "\t\t\t# mask (for language modeling)\n",
    "\n",
    "\t\t\tmasked = mask_function(pad_mask)\n",
    "\n",
    "\t\t\tloss,acc = loss_acc(fabric,model,x_batch,y_batch,masked,masked)\n",
    "\n",
    "\t\t\tfabric.backward(loss)\n",
    "\n",
    "\t\t\toptimizer.step()\n",
    "\t\t\toptimizer.zero_grad()\n",
    "\n",
    "\t\t\tlosses.append(loss.item())\n",
    "\t\t\taccuracies.append(acc.item())\n",
    "\n",
    "\t\tval_loss,val_acc = val_loop(fabric,model,x_test,y_test,batch_size,)\n",
    "\n",
    "\t\ttrain_acc_results.append(np.mean(accuracies))\n",
    "\t\tval_acc_results.append(val_acc)\n",
    "\n",
    "\t\tprint(f\"Training loss: {np.mean(losses)} | Training acc: {np.mean(accuracies)} | Val loss: {val_loss} | Vall acc: {val_acc}\")\n",
    "\n",
    "\treturn train_acc_results,val_acc_results\n"
   ]
  },
  {
   "cell_type": "code",
   "execution_count": 210,
   "metadata": {},
   "outputs": [],
   "source": [
    "def lm_train(fabric,\n",
    "\t\t\t\tmodel:Transformer,\n",
    "\t\t\t\tmask_function,\n",
    "\t\t\t\tx_train,\n",
    "\t\t\t\ty_train,\n",
    "\t\t\t\tx_test,\n",
    "\t\t\t\ty_test,\n",
    "\t\t\t\tbatch_size,\n",
    "\t\t\t\tn_epochs,):\n",
    "\t\n",
    "\tloss_fn = nn.CrossEntropyLoss(reduce=True,ignore_index=-100)\n",
    "\t\n",
    "\tdef loss_acc(fabric,\n",
    "\t\t\t  model:Transformer,\n",
    "\t\t\t  x_batch,\n",
    "\t\t\t  y_batch,\n",
    "\t\t\t  model_mask,\n",
    "\t\t\t  loss_mask):\n",
    "\t\t\t\n",
    "\t\twith fabric.autocast():\n",
    "\n",
    "\t\t\tx_batch = x_batch.to(DEVICE)\n",
    "\t\t\ty_batch = y_batch.to(DEVICE)\n",
    "\t\t\tmodel_mask = model_mask.to(DEVICE)\n",
    "\t\t\tloss_mask = loss_mask.to(DEVICE)\n",
    "\t\t\n",
    "\t\t\ty_pred = model.lm_forward(x_batch,model_mask)\n",
    "\t\t\ty_batch[torch.logical_not(loss_mask)] = -100\n",
    "\t\t\tloss = loss_fn(einx.rearrange(\"b l c -> b c l\",y_pred),y_batch)\n",
    "\t\t\tacc = masked_accuracy(y_pred,y_batch,loss_mask)\n",
    "\t\treturn loss,acc\n",
    "\n",
    "\t\n",
    "\tdef val_loop(fabric,\n",
    "\t\t\t  model:Transformer,\n",
    "\t\t\t  x_test,\n",
    "\t\t\t  y_test,\n",
    "\t\t\t  batch_size,):\n",
    "\t\t\n",
    "\t\t\n",
    "\t\tbatches = get_batch_idx(len(x_test),batch_size,False)\n",
    "\n",
    "\t\tval_losses = []\n",
    "\t\tval_acc = []\n",
    "\n",
    "\t\twith torch.no_grad():\n",
    "\n",
    "\t\t\tfor b,indices in enumerate(batches):\n",
    "\n",
    "\t\t\t\tx_batch = x_test[indices]\n",
    "\t\t\t\ty_batch = y_test[indices]\n",
    "\n",
    "\t\t\t\tpad_mask = mask_from_list(x_batch,[0,1])\n",
    "\n",
    "\t\t\t\tmasked = mask_function(pad_mask)\n",
    "\n",
    "\t\t\t\tloss,acc = loss_acc(fabric,model,x_batch,y_batch,masked,masked)\n",
    "\t\t\t\tval_losses.append(loss.item())\n",
    "\t\t\t\tval_acc.append(acc.item())\n",
    "\n",
    "\t\treturn np.mean(val_losses),np.mean(val_acc)\n",
    "\t\n",
    "\toptimizer = torch.optim.AdamW(model.parameters(),\n",
    "\t\t\t\t\t\t\t   lr=1E-3,\n",
    "\t\t\t\t\t\t\t   weight_decay=1E-2)\n",
    "\t\n",
    "\tmodel,optimizer = fabric.setup(model,optimizer)\n",
    "\n",
    "\tval_acc_results = []\n",
    "\ttrain_acc_results = []\n",
    "\n",
    "\tfor epoch in range(n_epochs):\n",
    "\n",
    "\t\tbatches = get_batch_idx(len(x_train),batch_size,True)\n",
    "\n",
    "\t\tlosses = []\n",
    "\t\taccuracies = []\n",
    "\n",
    "\t\tfor b,indices in enumerate(batches):\n",
    "\n",
    "\t\t\tx_batch = x_train[indices]\n",
    "\t\t\ty_batch = y_train[indices]\n",
    "\n",
    "\t\t\t# mask pad tokens\n",
    "\n",
    "\t\t\tpad_mask = mask_from_list(x_batch,[0,1])\n",
    "\n",
    "\t\t\t# mask (for language modeling)\n",
    "\n",
    "\t\t\tmasked = mask_function(pad_mask)\n",
    "\n",
    "\t\t\tloss,acc = loss_acc(fabric,model,x_batch,y_batch,masked,masked)\n",
    "\n",
    "\t\t\tfabric.backward(loss)\n",
    "\n",
    "\t\t\toptimizer.step()\n",
    "\t\t\toptimizer.zero_grad()\n",
    "\n",
    "\t\t\tlosses.append(loss.item())\n",
    "\t\t\taccuracies.append(acc.item())\n",
    "\n",
    "\t\tval_loss,val_acc = val_loop(fabric,model,x_test,y_test,batch_size,)\n",
    "\n",
    "\t\ttrain_acc_results.append(np.mean(accuracies))\n",
    "\t\tval_acc_results.append(val_acc)\n",
    "\n",
    "\t\tprint(f\"Training loss: {np.mean(losses)} | Training acc: {np.mean(accuracies)} | Val loss: {val_loss} | Vall acc: {val_acc}\")\n",
    "\n",
    "\treturn train_acc_results,val_acc_results\n"
   ]
  },
  {
   "cell_type": "code",
   "execution_count": 211,
   "metadata": {},
   "outputs": [
    {
     "name": "stderr",
     "output_type": "stream",
     "text": [
      "Using bfloat16 Automatic Mixed Precision (AMP)\n"
     ]
    }
   ],
   "source": [
    "fabric = Fabric(accelerator=\"cuda\",precision=\"bf16-mixed\")"
   ]
  },
  {
   "cell_type": "code",
   "execution_count": 212,
   "metadata": {},
   "outputs": [],
   "source": [
    "def structure_mask(pad_mask):\n",
    "\treturn torch.logical_not(pad_mask)"
   ]
  },
  {
   "cell_type": "code",
   "execution_count": 213,
   "metadata": {},
   "outputs": [],
   "source": [
    "def lm_mask(pad_mask,p=0.1):\n",
    "\tmask = torch.rand((pad_mask.shape))>(1-p)\n",
    "\treturn torch.logical_and(mask,torch.logical_not(pad_mask))"
   ]
  },
  {
   "cell_type": "code",
   "execution_count": 214,
   "metadata": {},
   "outputs": [],
   "source": [
    "fabric_train = lambda x : torch_train(x,\n",
    "\t\t\t\t\t\t\t\t\t  model=model,\n",
    "\t\t\t\t\t\t\t\t\t  mask_function=structure_mask,\n",
    "\t\t\t\t\t\t\t\t\t  x_train=x_train,\n",
    "\t\t\t\t\t\t\t\t\t  y_train=y_train,\n",
    "\t\t\t\t\t\t\t\t\t  x_test=x_test,\n",
    "\t\t\t\t\t\t\t\t\t  y_test=y_test,\n",
    "\t\t\t\t\t\t\t\t\t  batch_size=32,\n",
    "\t\t\t\t\t\t\t\t\t  n_epochs=50,)\n",
    "\n",
    "fabric_lm_train = lambda x : lm_train(x,\n",
    "\t\t\t\t\t\t\t\t\t  model=hyena_model,\n",
    "\t\t\t\t\t\t\t\t\t  mask_function=lm_mask,\n",
    "\t\t\t\t\t\t\t\t\t  x_train=x_train,\n",
    "\t\t\t\t\t\t\t\t\t  y_train=x_train,\n",
    "\t\t\t\t\t\t\t\t\t  x_test=x_test,\n",
    "\t\t\t\t\t\t\t\t\t  y_test=x_test,\n",
    "\t\t\t\t\t\t\t\t\t  batch_size=32,\n",
    "\t\t\t\t\t\t\t\t\t  n_epochs=50,)"
   ]
  },
  {
   "cell_type": "code",
   "execution_count": 219,
   "metadata": {},
   "outputs": [
    {
     "ename": "RuntimeError",
     "evalue": "CUDA error: device-side assert triggered\nCUDA kernel errors might be asynchronously reported at some other API call, so the stacktrace below might be incorrect.\nFor debugging consider passing CUDA_LAUNCH_BLOCKING=1.\nCompile with `TORCH_USE_CUDA_DSA` to enable device-side assertions.\n",
     "output_type": "error",
     "traceback": [
      "\u001b[1;31m---------------------------------------------------------------------------\u001b[0m",
      "\u001b[1;31mRuntimeError\u001b[0m                              Traceback (most recent call last)",
      "Cell \u001b[1;32mIn[219], line 1\u001b[0m\n\u001b[1;32m----> 1\u001b[0m \u001b[43mfabric\u001b[49m\u001b[38;5;241;43m.\u001b[39;49m\u001b[43mlaunch\u001b[49m\u001b[43m(\u001b[49m\u001b[43mfabric_lm_train\u001b[49m\u001b[43m)\u001b[49m\n",
      "File \u001b[1;32mc:\\Users\\rahar\\anaconda3\\envs\\neuro\\lib\\site-packages\\lightning\\fabric\\fabric.py:862\u001b[0m, in \u001b[0;36mFabric.launch\u001b[1;34m(self, function, *args, **kwargs)\u001b[0m\n\u001b[0;32m    857\u001b[0m \u001b[38;5;28;01melif\u001b[39;00m \u001b[38;5;28misinstance\u001b[39m(\u001b[38;5;28mself\u001b[39m\u001b[38;5;241m.\u001b[39mstrategy\u001b[38;5;241m.\u001b[39mlauncher, (_MultiProcessingLauncher, _XLALauncher)):\n\u001b[0;32m    858\u001b[0m     \u001b[38;5;28;01mraise\u001b[39;00m \u001b[38;5;167;01mTypeError\u001b[39;00m(\n\u001b[0;32m    859\u001b[0m         \u001b[38;5;124mf\u001b[39m\u001b[38;5;124m\"\u001b[39m\u001b[38;5;124mTo spawn processes with the `\u001b[39m\u001b[38;5;132;01m{\u001b[39;00m\u001b[38;5;28mtype\u001b[39m(\u001b[38;5;28mself\u001b[39m\u001b[38;5;241m.\u001b[39mstrategy)\u001b[38;5;241m.\u001b[39m\u001b[38;5;18m__name__\u001b[39m\u001b[38;5;132;01m}\u001b[39;00m\u001b[38;5;124m` strategy, `.launch()` needs to be called\u001b[39m\u001b[38;5;124m\"\u001b[39m\n\u001b[0;32m    860\u001b[0m         \u001b[38;5;124m\"\u001b[39m\u001b[38;5;124m with a function that contains the code to launch in processes.\u001b[39m\u001b[38;5;124m\"\u001b[39m\n\u001b[0;32m    861\u001b[0m     )\n\u001b[1;32m--> 862\u001b[0m \u001b[38;5;28;01mreturn\u001b[39;00m \u001b[38;5;28mself\u001b[39m\u001b[38;5;241m.\u001b[39m_wrap_and_launch(function, \u001b[38;5;28mself\u001b[39m, \u001b[38;5;241m*\u001b[39margs, \u001b[38;5;241m*\u001b[39m\u001b[38;5;241m*\u001b[39mkwargs)\n",
      "File \u001b[1;32mc:\\Users\\rahar\\anaconda3\\envs\\neuro\\lib\\site-packages\\lightning\\fabric\\fabric.py:948\u001b[0m, in \u001b[0;36mFabric._wrap_and_launch\u001b[1;34m(self, to_run, *args, **kwargs)\u001b[0m\n\u001b[0;32m    946\u001b[0m \u001b[38;5;28;01mif\u001b[39;00m (launcher \u001b[38;5;241m:=\u001b[39m \u001b[38;5;28mself\u001b[39m\u001b[38;5;241m.\u001b[39m_strategy\u001b[38;5;241m.\u001b[39mlauncher) \u001b[38;5;129;01mis\u001b[39;00m \u001b[38;5;129;01mnot\u001b[39;00m \u001b[38;5;28;01mNone\u001b[39;00m:\n\u001b[0;32m    947\u001b[0m     \u001b[38;5;28;01mreturn\u001b[39;00m launcher\u001b[38;5;241m.\u001b[39mlaunch(to_run, \u001b[38;5;241m*\u001b[39margs, \u001b[38;5;241m*\u001b[39m\u001b[38;5;241m*\u001b[39mkwargs)\n\u001b[1;32m--> 948\u001b[0m \u001b[38;5;28;01mreturn\u001b[39;00m to_run(\u001b[38;5;241m*\u001b[39margs, \u001b[38;5;241m*\u001b[39m\u001b[38;5;241m*\u001b[39mkwargs)\n",
      "File \u001b[1;32mc:\\Users\\rahar\\anaconda3\\envs\\neuro\\lib\\site-packages\\lightning\\fabric\\fabric.py:953\u001b[0m, in \u001b[0;36mFabric._wrap_with_setup\u001b[1;34m(self, to_run, *args, **kwargs)\u001b[0m\n\u001b[0;32m    951\u001b[0m \u001b[38;5;28mself\u001b[39m\u001b[38;5;241m.\u001b[39m_strategy\u001b[38;5;241m.\u001b[39msetup_environment()\n\u001b[0;32m    952\u001b[0m \u001b[38;5;28;01mwith\u001b[39;00m _replace_dunder_methods(DataLoader, \u001b[38;5;124m\"\u001b[39m\u001b[38;5;124mdataset\u001b[39m\u001b[38;5;124m\"\u001b[39m), _replace_dunder_methods(BatchSampler):\n\u001b[1;32m--> 953\u001b[0m     \u001b[38;5;28;01mreturn\u001b[39;00m to_run(\u001b[38;5;241m*\u001b[39margs, \u001b[38;5;241m*\u001b[39m\u001b[38;5;241m*\u001b[39mkwargs)\n",
      "Cell \u001b[1;32mIn[214], line 11\u001b[0m, in \u001b[0;36m<lambda>\u001b[1;34m(x)\u001b[0m\n\u001b[0;32m      1\u001b[0m fabric_train \u001b[38;5;241m=\u001b[39m \u001b[38;5;28;01mlambda\u001b[39;00m x : torch_train(x,\n\u001b[0;32m      2\u001b[0m \t\t\t\t\t\t\t\t\t  model\u001b[38;5;241m=\u001b[39mmodel,\n\u001b[0;32m      3\u001b[0m \t\t\t\t\t\t\t\t\t  mask_function\u001b[38;5;241m=\u001b[39mstructure_mask,\n\u001b[1;32m   (...)\u001b[0m\n\u001b[0;32m      8\u001b[0m \t\t\t\t\t\t\t\t\t  batch_size\u001b[38;5;241m=\u001b[39m\u001b[38;5;241m32\u001b[39m,\n\u001b[0;32m      9\u001b[0m \t\t\t\t\t\t\t\t\t  n_epochs\u001b[38;5;241m=\u001b[39m\u001b[38;5;241m50\u001b[39m,)\n\u001b[1;32m---> 11\u001b[0m fabric_lm_train \u001b[38;5;241m=\u001b[39m \u001b[38;5;28;01mlambda\u001b[39;00m x : \u001b[43mlm_train\u001b[49m\u001b[43m(\u001b[49m\u001b[43mx\u001b[49m\u001b[43m,\u001b[49m\n\u001b[0;32m     12\u001b[0m \u001b[43m\t\t\t\t\t\t\t\t\t  \u001b[49m\u001b[43mmodel\u001b[49m\u001b[38;5;241;43m=\u001b[39;49m\u001b[43mhyena_model\u001b[49m\u001b[43m,\u001b[49m\n\u001b[0;32m     13\u001b[0m \u001b[43m\t\t\t\t\t\t\t\t\t  \u001b[49m\u001b[43mmask_function\u001b[49m\u001b[38;5;241;43m=\u001b[39;49m\u001b[43mlm_mask\u001b[49m\u001b[43m,\u001b[49m\n\u001b[0;32m     14\u001b[0m \u001b[43m\t\t\t\t\t\t\t\t\t  \u001b[49m\u001b[43mx_train\u001b[49m\u001b[38;5;241;43m=\u001b[39;49m\u001b[43mx_train\u001b[49m\u001b[43m,\u001b[49m\n\u001b[0;32m     15\u001b[0m \u001b[43m\t\t\t\t\t\t\t\t\t  \u001b[49m\u001b[43my_train\u001b[49m\u001b[38;5;241;43m=\u001b[39;49m\u001b[43mx_train\u001b[49m\u001b[43m,\u001b[49m\n\u001b[0;32m     16\u001b[0m \u001b[43m\t\t\t\t\t\t\t\t\t  \u001b[49m\u001b[43mx_test\u001b[49m\u001b[38;5;241;43m=\u001b[39;49m\u001b[43mx_test\u001b[49m\u001b[43m,\u001b[49m\n\u001b[0;32m     17\u001b[0m \u001b[43m\t\t\t\t\t\t\t\t\t  \u001b[49m\u001b[43my_test\u001b[49m\u001b[38;5;241;43m=\u001b[39;49m\u001b[43mx_test\u001b[49m\u001b[43m,\u001b[49m\n\u001b[0;32m     18\u001b[0m \u001b[43m\t\t\t\t\t\t\t\t\t  \u001b[49m\u001b[43mbatch_size\u001b[49m\u001b[38;5;241;43m=\u001b[39;49m\u001b[38;5;241;43m32\u001b[39;49m\u001b[43m,\u001b[49m\n\u001b[0;32m     19\u001b[0m \u001b[43m\t\t\t\t\t\t\t\t\t  \u001b[49m\u001b[43mn_epochs\u001b[49m\u001b[38;5;241;43m=\u001b[39;49m\u001b[38;5;241;43m50\u001b[39;49m\u001b[43m,\u001b[49m\u001b[43m)\u001b[49m\n",
      "Cell \u001b[1;32mIn[210], line 92\u001b[0m, in \u001b[0;36mlm_train\u001b[1;34m(fabric, model, mask_function, x_train, y_train, x_test, y_test, batch_size, n_epochs)\u001b[0m\n\u001b[0;32m     88\u001b[0m \u001b[38;5;66;03m# mask (for language modeling)\u001b[39;00m\n\u001b[0;32m     90\u001b[0m masked \u001b[38;5;241m=\u001b[39m mask_function(pad_mask)\n\u001b[1;32m---> 92\u001b[0m loss,acc \u001b[38;5;241m=\u001b[39m \u001b[43mloss_acc\u001b[49m\u001b[43m(\u001b[49m\u001b[43mfabric\u001b[49m\u001b[43m,\u001b[49m\u001b[43mmodel\u001b[49m\u001b[43m,\u001b[49m\u001b[43mx_batch\u001b[49m\u001b[43m,\u001b[49m\u001b[43my_batch\u001b[49m\u001b[43m,\u001b[49m\u001b[43mmasked\u001b[49m\u001b[43m,\u001b[49m\u001b[43mmasked\u001b[49m\u001b[43m)\u001b[49m\n\u001b[0;32m     94\u001b[0m fabric\u001b[38;5;241m.\u001b[39mbackward(loss)\n\u001b[0;32m     96\u001b[0m optimizer\u001b[38;5;241m.\u001b[39mstep()\n",
      "Cell \u001b[1;32mIn[210], line 22\u001b[0m, in \u001b[0;36mlm_train.<locals>.loss_acc\u001b[1;34m(fabric, model, x_batch, y_batch, model_mask, loss_mask)\u001b[0m\n\u001b[0;32m     13\u001b[0m \u001b[38;5;28;01mdef\u001b[39;00m \u001b[38;5;21mloss_acc\u001b[39m(fabric,\n\u001b[0;32m     14\u001b[0m \t\t  model:Transformer,\n\u001b[0;32m     15\u001b[0m \t\t  x_batch,\n\u001b[0;32m     16\u001b[0m \t\t  y_batch,\n\u001b[0;32m     17\u001b[0m \t\t  model_mask,\n\u001b[0;32m     18\u001b[0m \t\t  loss_mask):\n\u001b[0;32m     20\u001b[0m \t\u001b[38;5;28;01mwith\u001b[39;00m fabric\u001b[38;5;241m.\u001b[39mautocast():\n\u001b[1;32m---> 22\u001b[0m \t\tx_batch \u001b[38;5;241m=\u001b[39m \u001b[43mx_batch\u001b[49m\u001b[38;5;241;43m.\u001b[39;49m\u001b[43mto\u001b[49m\u001b[43m(\u001b[49m\u001b[43mDEVICE\u001b[49m\u001b[43m)\u001b[49m\n\u001b[0;32m     23\u001b[0m \t\ty_batch \u001b[38;5;241m=\u001b[39m y_batch\u001b[38;5;241m.\u001b[39mto(DEVICE)\n\u001b[0;32m     24\u001b[0m \t\tmodel_mask \u001b[38;5;241m=\u001b[39m model_mask\u001b[38;5;241m.\u001b[39mto(DEVICE)\n",
      "\u001b[1;31mRuntimeError\u001b[0m: CUDA error: device-side assert triggered\nCUDA kernel errors might be asynchronously reported at some other API call, so the stacktrace below might be incorrect.\nFor debugging consider passing CUDA_LAUNCH_BLOCKING=1.\nCompile with `TORCH_USE_CUDA_DSA` to enable device-side assertions.\n"
     ]
    }
   ],
   "source": [
    "fabric.launch(fabric_lm_train)"
   ]
  },
  {
   "cell_type": "code",
   "execution_count": 239,
   "metadata": {},
   "outputs": [
    {
     "name": "stderr",
     "output_type": "stream",
     "text": [
      "C:\\Users\\rahar\\AppData\\Local\\Temp\\ipykernel_49520\\927992485.py:1: UserWarning: To copy construct from a tensor, it is recommended to use sourceTensor.clone().detach() or sourceTensor.clone().detach().requires_grad_(True), rather than torch.tensor(sourceTensor).\n",
      "  x_batch = torch.tensor(x_train[0:16])\n"
     ]
    }
   ],
   "source": [
    "x_batch = torch.tensor(x_train[0:16])\n",
    "\n",
    "pad_mask = mask_from_list(x_batch,[0,1])\n",
    "\n",
    "masked = lm_mask(pad_mask)"
   ]
  },
  {
   "cell_type": "code",
   "execution_count": 240,
   "metadata": {},
   "outputs": [
    {
     "data": {
      "text/plain": [
       "tensor([[15,  9,  9,  ...,  0,  0,  0],\n",
       "        [20, 15, 18,  ...,  0,  0,  0],\n",
       "        [ 4,  7,  4,  ...,  0,  0,  0],\n",
       "        ...,\n",
       "        [ 9, 21, 12,  ...,  0,  0,  0],\n",
       "        [ 7, 15, 12,  ...,  0,  0,  0],\n",
       "        [18,  5,  9,  ...,  0,  0,  0]])"
      ]
     },
     "execution_count": 240,
     "metadata": {},
     "output_type": "execute_result"
    }
   ],
   "source": [
    "x_batch"
   ]
  },
  {
   "cell_type": "code",
   "execution_count": 248,
   "metadata": {},
   "outputs": [
    {
     "ename": "RuntimeError",
     "evalue": "CUDA error: device-side assert triggered\nCUDA kernel errors might be asynchronously reported at some other API call, so the stacktrace below might be incorrect.\nFor debugging consider passing CUDA_LAUNCH_BLOCKING=1.\nCompile with `TORCH_USE_CUDA_DSA` to enable device-side assertions.\n",
     "output_type": "error",
     "traceback": [
      "\u001b[1;31m---------------------------------------------------------------------------\u001b[0m",
      "\u001b[1;31mRuntimeError\u001b[0m                              Traceback (most recent call last)",
      "Cell \u001b[1;32mIn[248], line 1\u001b[0m\n\u001b[1;32m----> 1\u001b[0m \u001b[43mx_batch\u001b[49m\u001b[38;5;241;43m.\u001b[39;49m\u001b[43mto\u001b[49m\u001b[43m(\u001b[49m\u001b[43mtorch\u001b[49m\u001b[38;5;241;43m.\u001b[39;49m\u001b[43mlong\u001b[49m\u001b[43m)\u001b[49m\u001b[38;5;241;43m.\u001b[39;49m\u001b[43mto\u001b[49m\u001b[43m(\u001b[49m\u001b[38;5;124;43m\"\u001b[39;49m\u001b[38;5;124;43mcuda\u001b[39;49m\u001b[38;5;124;43m\"\u001b[39;49m\u001b[43m)\u001b[49m\n",
      "\u001b[1;31mRuntimeError\u001b[0m: CUDA error: device-side assert triggered\nCUDA kernel errors might be asynchronously reported at some other API call, so the stacktrace below might be incorrect.\nFor debugging consider passing CUDA_LAUNCH_BLOCKING=1.\nCompile with `TORCH_USE_CUDA_DSA` to enable device-side assertions.\n"
     ]
    }
   ],
   "source": [
    "x_batch.to(torch.long).to(\"cuda\")"
   ]
  },
  {
   "cell_type": "code",
   "execution_count": 242,
   "metadata": {},
   "outputs": [
    {
     "ename": "RuntimeError",
     "evalue": "CUDA error: device-side assert triggered\nCUDA kernel errors might be asynchronously reported at some other API call, so the stacktrace below might be incorrect.\nFor debugging consider passing CUDA_LAUNCH_BLOCKING=1.\nCompile with `TORCH_USE_CUDA_DSA` to enable device-side assertions.\n",
     "output_type": "error",
     "traceback": [
      "\u001b[1;31m---------------------------------------------------------------------------\u001b[0m",
      "\u001b[1;31mRuntimeError\u001b[0m                              Traceback (most recent call last)",
      "Cell \u001b[1;32mIn[242], line 1\u001b[0m\n\u001b[1;32m----> 1\u001b[0m \u001b[43mx_batch\u001b[49m\u001b[38;5;241;43m.\u001b[39;49m\u001b[43mto\u001b[49m\u001b[43m(\u001b[49m\u001b[38;5;124;43m\"\u001b[39;49m\u001b[38;5;124;43mcuda\u001b[39;49m\u001b[38;5;124;43m\"\u001b[39;49m\u001b[43m)\u001b[49m\n",
      "\u001b[1;31mRuntimeError\u001b[0m: CUDA error: device-side assert triggered\nCUDA kernel errors might be asynchronously reported at some other API call, so the stacktrace below might be incorrect.\nFor debugging consider passing CUDA_LAUNCH_BLOCKING=1.\nCompile with `TORCH_USE_CUDA_DSA` to enable device-side assertions.\n"
     ]
    }
   ],
   "source": [
    "x_batch.to(\"cuda\")"
   ]
  },
  {
   "cell_type": "code",
   "execution_count": 225,
   "metadata": {},
   "outputs": [
    {
     "ename": "RuntimeError",
     "evalue": "CUDA error: device-side assert triggered\nCUDA kernel errors might be asynchronously reported at some other API call, so the stacktrace below might be incorrect.\nFor debugging consider passing CUDA_LAUNCH_BLOCKING=1.\nCompile with `TORCH_USE_CUDA_DSA` to enable device-side assertions.\n",
     "output_type": "error",
     "traceback": [
      "\u001b[1;31m---------------------------------------------------------------------------\u001b[0m",
      "\u001b[1;31mRuntimeError\u001b[0m                              Traceback (most recent call last)",
      "Cell \u001b[1;32mIn[225], line 1\u001b[0m\n\u001b[1;32m----> 1\u001b[0m hyena_model\u001b[38;5;241m.\u001b[39mlm_forward(\u001b[43mx_train\u001b[49m\u001b[38;5;241;43m.\u001b[39;49m\u001b[43mto\u001b[49m\u001b[43m(\u001b[49m\u001b[43mDEVICE\u001b[49m\u001b[43m)\u001b[49m,masked\u001b[38;5;241m.\u001b[39mto(DEVICE))\n",
      "\u001b[1;31mRuntimeError\u001b[0m: CUDA error: device-side assert triggered\nCUDA kernel errors might be asynchronously reported at some other API call, so the stacktrace below might be incorrect.\nFor debugging consider passing CUDA_LAUNCH_BLOCKING=1.\nCompile with `TORCH_USE_CUDA_DSA` to enable device-side assertions.\n"
     ]
    }
   ],
   "source": [
    "hyena_model.lm_forward(x_train.to(DEVICE),masked.to(DEVI))"
   ]
  },
  {
   "cell_type": "code",
   "execution_count": 249,
   "metadata": {},
   "outputs": [
    {
     "name": "stderr",
     "output_type": "stream",
     "text": [
      "c:\\Users\\rahar\\anaconda3\\envs\\neuro\\lib\\site-packages\\torch\\nn\\_reduction.py:42: UserWarning: size_average and reduce args will be deprecated, please use reduction='mean' instead.\n",
      "  warnings.warn(warning.format(ret))\n"
     ]
    },
    {
     "ename": "RuntimeError",
     "evalue": "CUDA error: device-side assert triggered\nCUDA kernel errors might be asynchronously reported at some other API call, so the stacktrace below might be incorrect.\nFor debugging consider passing CUDA_LAUNCH_BLOCKING=1.\nCompile with `TORCH_USE_CUDA_DSA` to enable device-side assertions.\n",
     "output_type": "error",
     "traceback": [
      "\u001b[1;31m---------------------------------------------------------------------------\u001b[0m",
      "\u001b[1;31mRuntimeError\u001b[0m                              Traceback (most recent call last)",
      "Cell \u001b[1;32mIn[249], line 1\u001b[0m\n\u001b[1;32m----> 1\u001b[0m \u001b[43mlm_train\u001b[49m\u001b[43m(\u001b[49m\u001b[43mfabric\u001b[49m\u001b[43m,\u001b[49m\n\u001b[0;32m      2\u001b[0m \u001b[43m\t\t\u001b[49m\u001b[43mmodel\u001b[49m\u001b[38;5;241;43m=\u001b[39;49m\u001b[43mhyena_model\u001b[49m\u001b[43m,\u001b[49m\n\u001b[0;32m      3\u001b[0m \u001b[43m\t\t\u001b[49m\u001b[43mmask_function\u001b[49m\u001b[38;5;241;43m=\u001b[39;49m\u001b[43mlm_mask\u001b[49m\u001b[43m,\u001b[49m\n\u001b[0;32m      4\u001b[0m \u001b[43m\t\t\u001b[49m\u001b[43mx_train\u001b[49m\u001b[38;5;241;43m=\u001b[39;49m\u001b[43mx_train\u001b[49m\u001b[43m,\u001b[49m\n\u001b[0;32m      5\u001b[0m \u001b[43m\t\t\u001b[49m\u001b[43my_train\u001b[49m\u001b[38;5;241;43m=\u001b[39;49m\u001b[43mx_train\u001b[49m\u001b[43m,\u001b[49m\n\u001b[0;32m      6\u001b[0m \u001b[43m\t\t\u001b[49m\u001b[43mx_test\u001b[49m\u001b[38;5;241;43m=\u001b[39;49m\u001b[43mx_test\u001b[49m\u001b[43m,\u001b[49m\u001b[43m \u001b[49m\n\u001b[0;32m      7\u001b[0m \u001b[43m\t\t\u001b[49m\u001b[43my_test\u001b[49m\u001b[38;5;241;43m=\u001b[39;49m\u001b[43mx_test\u001b[49m\u001b[43m,\u001b[49m\n\u001b[0;32m      8\u001b[0m \u001b[43m\t\t\u001b[49m\u001b[43mbatch_size\u001b[49m\u001b[38;5;241;43m=\u001b[39;49m\u001b[38;5;241;43m32\u001b[39;49m\u001b[43m,\u001b[49m\n\u001b[0;32m      9\u001b[0m \u001b[43m\t\t\u001b[49m\u001b[43mn_epochs\u001b[49m\u001b[38;5;241;43m=\u001b[39;49m\u001b[38;5;241;43m50\u001b[39;49m\u001b[43m,\u001b[49m\u001b[43m)\u001b[49m\n",
      "Cell \u001b[1;32mIn[210], line 92\u001b[0m, in \u001b[0;36mlm_train\u001b[1;34m(fabric, model, mask_function, x_train, y_train, x_test, y_test, batch_size, n_epochs)\u001b[0m\n\u001b[0;32m     88\u001b[0m \u001b[38;5;66;03m# mask (for language modeling)\u001b[39;00m\n\u001b[0;32m     90\u001b[0m masked \u001b[38;5;241m=\u001b[39m mask_function(pad_mask)\n\u001b[1;32m---> 92\u001b[0m loss,acc \u001b[38;5;241m=\u001b[39m \u001b[43mloss_acc\u001b[49m\u001b[43m(\u001b[49m\u001b[43mfabric\u001b[49m\u001b[43m,\u001b[49m\u001b[43mmodel\u001b[49m\u001b[43m,\u001b[49m\u001b[43mx_batch\u001b[49m\u001b[43m,\u001b[49m\u001b[43my_batch\u001b[49m\u001b[43m,\u001b[49m\u001b[43mmasked\u001b[49m\u001b[43m,\u001b[49m\u001b[43mmasked\u001b[49m\u001b[43m)\u001b[49m\n\u001b[0;32m     94\u001b[0m fabric\u001b[38;5;241m.\u001b[39mbackward(loss)\n\u001b[0;32m     96\u001b[0m optimizer\u001b[38;5;241m.\u001b[39mstep()\n",
      "Cell \u001b[1;32mIn[210], line 22\u001b[0m, in \u001b[0;36mlm_train.<locals>.loss_acc\u001b[1;34m(fabric, model, x_batch, y_batch, model_mask, loss_mask)\u001b[0m\n\u001b[0;32m     13\u001b[0m \u001b[38;5;28;01mdef\u001b[39;00m \u001b[38;5;21mloss_acc\u001b[39m(fabric,\n\u001b[0;32m     14\u001b[0m \t\t  model:Transformer,\n\u001b[0;32m     15\u001b[0m \t\t  x_batch,\n\u001b[0;32m     16\u001b[0m \t\t  y_batch,\n\u001b[0;32m     17\u001b[0m \t\t  model_mask,\n\u001b[0;32m     18\u001b[0m \t\t  loss_mask):\n\u001b[0;32m     20\u001b[0m \t\u001b[38;5;28;01mwith\u001b[39;00m fabric\u001b[38;5;241m.\u001b[39mautocast():\n\u001b[1;32m---> 22\u001b[0m \t\tx_batch \u001b[38;5;241m=\u001b[39m \u001b[43mx_batch\u001b[49m\u001b[38;5;241;43m.\u001b[39;49m\u001b[43mto\u001b[49m\u001b[43m(\u001b[49m\u001b[43mDEVICE\u001b[49m\u001b[43m)\u001b[49m\n\u001b[0;32m     23\u001b[0m \t\ty_batch \u001b[38;5;241m=\u001b[39m y_batch\u001b[38;5;241m.\u001b[39mto(DEVICE)\n\u001b[0;32m     24\u001b[0m \t\tmodel_mask \u001b[38;5;241m=\u001b[39m model_mask\u001b[38;5;241m.\u001b[39mto(DEVICE)\n",
      "\u001b[1;31mRuntimeError\u001b[0m: CUDA error: device-side assert triggered\nCUDA kernel errors might be asynchronously reported at some other API call, so the stacktrace below might be incorrect.\nFor debugging consider passing CUDA_LAUNCH_BLOCKING=1.\nCompile with `TORCH_USE_CUDA_DSA` to enable device-side assertions.\n"
     ]
    }
   ],
   "source": [
    "lm_train(fabric,\n",
    "\t\tmodel=hyena_model,\n",
    "\t\tmask_function=lm_mask,\n",
    "\t\tx_train=x_train,\n",
    "\t\ty_train=x_train,\n",
    "\t\tx_test=x_test, \n",
    "\t\ty_test=x_test,\n",
    "\t\tbatch_size=32,\n",
    "\t\tn_epochs=50,)"
   ]
  },
  {
   "cell_type": "code",
   "execution_count": 188,
   "metadata": {},
   "outputs": [
    {
     "data": {
      "text/plain": [
       "torch.Size([23, 32])"
      ]
     },
     "execution_count": 188,
     "metadata": {},
     "output_type": "execute_result"
    }
   ],
   "source": [
    "hyena_model.embeddings.weight.shape"
   ]
  },
  {
   "cell_type": "code",
   "execution_count": 189,
   "metadata": {},
   "outputs": [],
   "source": [
    "with torch.no_grad():\n",
    "\tnormalize_mat = F.normalize(hyena_model.embeddings.weight,dim=1)\n",
    "\tmat = einx.dot(\"n1 d,n2 d -> n1 n2\",normalize_mat,normalize_mat)"
   ]
  },
  {
   "cell_type": "code",
   "execution_count": null,
   "metadata": {},
   "outputs": [],
   "source": []
  },
  {
   "cell_type": "code",
   "execution_count": 190,
   "metadata": {},
   "outputs": [
    {
     "data": {
      "text/plain": [
       "<matplotlib.image.AxesImage at 0x2738a558d00>"
      ]
     },
     "execution_count": 190,
     "metadata": {},
     "output_type": "execute_result"
    },
    {
     "data": {
      "image/png": "[encoded data removed]",
      "text/plain": [
       "<Figure size 640x480 with 1 Axes>"
      ]
     },
     "metadata": {},
     "output_type": "display_data"
    }
   ],
   "source": [
    "plt.imshow(mat.cpu())"
   ]
  },
  {
   "cell_type": "code",
   "execution_count": 191,
   "metadata": {},
   "outputs": [
    {
     "data": {
      "text/plain": [
       "{'C': 3,\n",
       " 'D': 4,\n",
       " 'S': 5,\n",
       " 'Q': 6,\n",
       " 'K': 7,\n",
       " 'I': 8,\n",
       " 'P': 9,\n",
       " 'T': 10,\n",
       " 'F': 11,\n",
       " 'N': 12,\n",
       " 'G': 13,\n",
       " 'H': 14,\n",
       " 'L': 15,\n",
       " 'R': 16,\n",
       " 'W': 17,\n",
       " 'A': 18,\n",
       " 'V': 19,\n",
       " 'E': 20,\n",
       " 'Y': 21,\n",
       " 'M': 22,\n",
       " '<PAD>': 0,\n",
       " '<MASK>': 1,\n",
       " '<END>': 0}"
      ]
     },
     "execution_count": 191,
     "metadata": {},
     "output_type": "execute_result"
    }
   ],
   "source": [
    "amino_to_int_dict"
   ]
  },
  {
   "cell_type": "code",
   "execution_count": 192,
   "metadata": {},
   "outputs": [],
   "source": [
    "# Define amino acid groups\n",
    "hydrophobic = ['A', 'V', 'I', 'L', 'M', 'F', 'W', 'Y']\n",
    "polar = ['S', 'T', 'N', 'Q', 'C', 'G']\n",
    "acidic = ['D', 'E']\n",
    "basic = ['K', 'R', 'H']\n",
    "special = ['P']\n",
    "\n",
    "\n",
    "\n",
    "# Group order by type\n",
    "grouped_amino_acids = hydrophobic + polar + acidic + basic + special\n",
    "grouped_amino_acids_indices = [amino_to_int_dict[aa] for aa in grouped_amino_acids if aa in amino_to_int_dict]\n",
    "\n",
    "with torch.no_grad():\n",
    "\n",
    "\t# Reorder the embedding matrix\n",
    "\treordered_embedding_matrix = hyena_model.embeddings.weight[grouped_amino_acids_indices, :]\n",
    "\tnormalize_mat = F.normalize(reordered_embedding_matrix,dim=1)\n",
    "\tmat = einx.dot(\"n1 d,n2 d -> n1 n2\",normalize_mat,normalize_mat)"
   ]
  },
  {
   "cell_type": "code",
   "execution_count": 193,
   "metadata": {},
   "outputs": [
    {
     "data": {
      "text/plain": [
       "[18, 19, 8, 15, 22, 11, 17, 21, 5, 10, 12, 6, 3, 13, 4, 20, 7, 16, 14, 9]"
      ]
     },
     "execution_count": 193,
     "metadata": {},
     "output_type": "execute_result"
    }
   ],
   "source": [
    "grouped_amino_acids_indices"
   ]
  },
  {
   "cell_type": "code",
   "execution_count": 194,
   "metadata": {},
   "outputs": [
    {
     "data": {
      "text/plain": [
       "torch.Size([20, 20])"
      ]
     },
     "execution_count": 194,
     "metadata": {},
     "output_type": "execute_result"
    }
   ],
   "source": [
    "mat.shape"
   ]
  },
  {
   "cell_type": "code",
   "execution_count": 195,
   "metadata": {},
   "outputs": [
    {
     "data": {
      "image/png": "[encoded data removed]",
      "text/plain": [
       "<Figure size 1000x800 with 2 Axes>"
      ]
     },
     "metadata": {},
     "output_type": "display_data"
    }
   ],
   "source": [
    "plt.figure(figsize=(10, 8))\n",
    "sns.heatmap(mat.cpu(), xticklabels=grouped_amino_acids, yticklabels=grouped_amino_acids, cmap=\"viridis\", annot=False)\n",
    "plt.title(\"Cosine Similarity Matrix of Amino Acids\")\n",
    "plt.xlabel(\"Amino Acids\")\n",
    "plt.ylabel(\"Amino Acids\")\n",
    "plt.show()"
   ]
  },
  {
   "cell_type": "code",
   "execution_count": 196,
   "metadata": {},
   "outputs": [
    {
     "data": {
      "text/plain": [
       "['A',\n",
       " 'V',\n",
       " 'I',\n",
       " 'L',\n",
       " 'M',\n",
       " 'F',\n",
       " 'W',\n",
       " 'Y',\n",
       " 'S',\n",
       " 'T',\n",
       " 'N',\n",
       " 'Q',\n",
       " 'C',\n",
       " 'G',\n",
       " 'D',\n",
       " 'E',\n",
       " 'K',\n",
       " 'R',\n",
       " 'H',\n",
       " 'P']"
      ]
     },
     "execution_count": 196,
     "metadata": {},
     "output_type": "execute_result"
    }
   ],
   "source": [
    "grouped_amino_acids"
   ]
  }
 ],
 "metadata": {
  "kernelspec": {
   "display_name": "neuro",
   "language": "python",
   "name": "python3"
  },
  "language_info": {
   "codemirror_mode": {
    "name": "ipython",
    "version": 3
   },
   "file_extension": ".py",
   "mimetype": "text/x-python",
   "name": "python",
   "nbconvert_exporter": "python",
   "pygments_lexer": "ipython3",
   "version": "3.10.12"
  }
 },
 "nbformat": 4,
 "nbformat_minor": 2
}
