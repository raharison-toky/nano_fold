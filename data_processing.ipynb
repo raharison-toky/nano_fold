{
 "cells": [
  {
   "cell_type": "code",
   "execution_count": 1,
   "metadata": {},
   "outputs": [],
   "source": [
    "import jax\n",
    "import jax.numpy as jnp\n",
    "import math\n",
    "import matplotlib.pyplot as plt\n",
    "import seaborn as sns\n",
    "import flax.linen as nn\n",
    "from typing import Sequence\n",
    "import einx\n",
    "import optax\n",
    "from jax import random\n",
    "import numpy as np\n",
    "import jmp"
   ]
  },
  {
   "cell_type": "markdown",
   "metadata": {},
   "source": [
    "https://rocm.blogs.amd.com/artificial-intelligence/jax-mixed-precision/README.html"
   ]
  },
  {
   "cell_type": "code",
   "execution_count": 2,
   "metadata": {},
   "outputs": [],
   "source": [
    "TRAINING_PATH = \"training_data/labels.txt\""
   ]
  },
  {
   "cell_type": "code",
   "execution_count": 3,
   "metadata": {},
   "outputs": [
    {
     "name": "stderr",
     "output_type": "stream",
     "text": [
      "2024-10-19 14:56:08.392768: W external/xla/xla/service/gpu/nvptx_compiler.cc:765] The NVIDIA driver's CUDA version is 12.2 which is older than the ptxas CUDA version (12.5.82). Because the driver is older than the ptxas version, XLA is disabling parallel compilation, which may slow down compilation. You should update your NVIDIA driver or use the NVIDIA-provided CUDA forward compatibility packages.\n"
     ]
    }
   ],
   "source": [
    "key = jax.random.key(0)"
   ]
  },
  {
   "cell_type": "markdown",
   "metadata": {},
   "source": [
    "## Get input output matrix"
   ]
  },
  {
   "cell_type": "code",
   "execution_count": 4,
   "metadata": {},
   "outputs": [],
   "source": [
    "lines = []\n",
    "\n",
    "with open(TRAINING_PATH) as f:\n",
    "\tfor i in f:\n",
    "\t\tlines.append(i)\n",
    "\n",
    "n_sequences = len(lines)//3"
   ]
  },
  {
   "cell_type": "code",
   "execution_count": 5,
   "metadata": {},
   "outputs": [
    {
     "data": {
      "text/plain": [
       "'>d2bkma | 128\\n'"
      ]
     },
     "execution_count": 5,
     "metadata": {},
     "output_type": "execute_result"
    }
   ],
   "source": [
    "lines[3]"
   ]
  },
  {
   "cell_type": "code",
   "execution_count": 6,
   "metadata": {},
   "outputs": [
    {
     "data": {
      "text/plain": [
       "'-HHHHH--HHHHHHHHHHHHHHHHH----HHHH----HHHHHHHHHHHHHHHH----------HHHHH------HHHHHHHHHHHHHHHHHH---HHHHHHHHHHHHHHHHHH---\\n'"
      ]
     },
     "execution_count": 6,
     "metadata": {},
     "output_type": "execute_result"
    }
   ],
   "source": [
    "lines[2]"
   ]
  },
  {
   "cell_type": "code",
   "execution_count": 7,
   "metadata": {},
   "outputs": [],
   "source": [
    "sequences = []\n",
    "\n",
    "for i in range(n_sequences):\n",
    "\tseq_id,seq_len = (lines[i*3]).split(\" | \")\n",
    "\tassert seq_id[0] == \">\"\n",
    "\tseq_id = seq_id[1:]\n",
    "\tseq_len = int(seq_len)\n",
    "\tseq = lines[i*3+1].strip()\n",
    "\tlabels = lines[i*3+2].strip()\n",
    "\n",
    "\tsequences.append([seq_id,seq,labels])\n"
   ]
  },
  {
   "cell_type": "code",
   "execution_count": 8,
   "metadata": {},
   "outputs": [
    {
     "data": {
      "text/plain": [
       "5326"
      ]
     },
     "execution_count": 8,
     "metadata": {},
     "output_type": "execute_result"
    }
   ],
   "source": [
    "len(sequences)"
   ]
  },
  {
   "cell_type": "code",
   "execution_count": 9,
   "metadata": {},
   "outputs": [
    {
     "data": {
      "text/plain": [
       "Array(5185, dtype=int32)"
      ]
     },
     "execution_count": 9,
     "metadata": {},
     "output_type": "execute_result"
    }
   ],
   "source": [
    "jnp.argmax(jnp.array([len(i[1]) for i in sequences]))"
   ]
  },
  {
   "cell_type": "code",
   "execution_count": 10,
   "metadata": {},
   "outputs": [],
   "source": [
    "lengths = jnp.array([len(i[1]) for i in sequences])"
   ]
  },
  {
   "cell_type": "code",
   "execution_count": 11,
   "metadata": {},
   "outputs": [
    {
     "data": {
      "text/plain": [
       "Array([116, 128, 147, ..., 111, 124, 119], dtype=int32)"
      ]
     },
     "execution_count": 11,
     "metadata": {},
     "output_type": "execute_result"
    }
   ],
   "source": [
    "lengths"
   ]
  },
  {
   "cell_type": "code",
   "execution_count": 12,
   "metadata": {},
   "outputs": [
    {
     "data": {
      "text/plain": [
       "Array(0.07341345, dtype=float32)"
      ]
     },
     "execution_count": 12,
     "metadata": {},
     "output_type": "execute_result"
    }
   ],
   "source": [
    "(lengths>384).sum()/len(lengths)"
   ]
  },
  {
   "cell_type": "code",
   "execution_count": 13,
   "metadata": {},
   "outputs": [
    {
     "data": {
      "text/plain": [
       "<Axes: ylabel='Count'>"
      ]
     },
     "execution_count": 13,
     "metadata": {},
     "output_type": "execute_result"
    },
    {
     "data": {
      "image/png": "[encoded data removed]",
      "text/plain": [
       "<Figure size 640x480 with 1 Axes>"
      ]
     },
     "metadata": {},
     "output_type": "display_data"
    }
   ],
   "source": [
    "sns.histplot(lengths)"
   ]
  },
  {
   "cell_type": "code",
   "execution_count": 14,
   "metadata": {},
   "outputs": [
    {
     "data": {
      "text/plain": [
       "['d3elka',\n",
       " 'TRERILHGLITLYILKELVKRPHGYELQKSFETTGQALPQGSIYILLKTKERGFVISESSVNKGQQLTVYHITDAGKKFLDHSQALQLARKIIDDLLSTVD',\n",
       " '---HHHHHHHHHHHHHHHHH---HHHHHHHHH---------HHHHHHHHHHH---------------------HHHHHHH----HHHHHHHHHHHHHH---']"
      ]
     },
     "execution_count": 14,
     "metadata": {},
     "output_type": "execute_result"
    }
   ],
   "source": [
    "sequences[100]"
   ]
  },
  {
   "cell_type": "code",
   "execution_count": 15,
   "metadata": {},
   "outputs": [],
   "source": [
    "d = {'CYS': 'C', 'ASP': 'D', 'SER': 'S', 'GLN': 'Q', 'LYS': 'K',\n",
    "     'ILE': 'I', 'PRO': 'P', 'THR': 'T', 'PHE': 'F', 'ASN': 'N', \n",
    "     'GLY': 'G', 'HIS': 'H', 'LEU': 'L', 'ARG': 'R', 'TRP': 'W', \n",
    "     'ALA': 'A', 'VAL':'V', 'GLU': 'E', 'TYR': 'Y', 'MET': 'M'}\n",
    "\n",
    "amino_acids = list(d.values())\n",
    "\n",
    "amino_to_int_dict = {i:idx+3 for idx,i in enumerate(amino_acids)}\n",
    "amino_to_int_dict[\"<PAD>\"] = 0\n",
    "amino_to_int_dict[\"<MASK>\"] = 1\n",
    "amino_to_int_dict[\"<END>\"] = 0\n",
    "int_to_amino_dict = {v:k for v,k in amino_to_int_dict.items()}\n",
    "\n",
    "secondary_to_int_dict = {\"<PAD>\":2,\"-\":0,\"H\":1,\"<END>\":0}\n",
    "int_to_secondary_dict = {v:k for v,k in secondary_to_int_dict.items()}"
   ]
  },
  {
   "cell_type": "code",
   "execution_count": 16,
   "metadata": {},
   "outputs": [],
   "source": [
    "def tokenize_from_dict(sequence,tokenizer_dict,length=None):\n",
    "\n",
    "\tif length is None:\n",
    "\t\tlength = len(sequence)\n",
    "\n",
    "\tseq = []\n",
    "\n",
    "\tfor i in range(length):\n",
    "\n",
    "\t\tif i>len(sequence):\n",
    "\t\t\tseq.append(tokenizer_dict[\"<PAD>\"])\n",
    "\t\telif i == len(sequence):\n",
    "\t\t\tseq.append(tokenizer_dict[\"<END>\"])\n",
    "\t\telse:\n",
    "\t\t\tseq.append(tokenizer_dict[sequence[i]])\n",
    "\n",
    "\treturn jnp.array(seq)\n"
   ]
  },
  {
   "cell_type": "code",
   "execution_count": 17,
   "metadata": {},
   "outputs": [],
   "source": [
    "inputs = []\n",
    "labels = []\n",
    "\n",
    "l_max = 384\n",
    "\n",
    "for seq in sequences:\n",
    "\tif len(seq[1])<=l_max-1:\n",
    "\t\tinputs.append(tokenize_from_dict(seq[1],amino_to_int_dict,l_max))\n",
    "\t\tlabels.append(tokenize_from_dict(seq[2],secondary_to_int_dict,l_max))"
   ]
  },
  {
   "cell_type": "code",
   "execution_count": 18,
   "metadata": {},
   "outputs": [],
   "source": [
    "def get_xy(sequences,l_max):\n",
    "\n",
    "\tinputs = []\n",
    "\tlabels = []\n",
    "\n",
    "\tfor seq in sequences:\n",
    "\t\tif len(seq[1])<=l_max-1:\n",
    "\t\t\tinputs.append(tokenize_from_dict(seq[1],amino_to_int_dict,l_max))\n",
    "\t\t\tlabels.append(tokenize_from_dict(seq[2],secondary_to_int_dict,l_max))\n",
    "\n",
    "\treturn jnp.stack(inputs),jnp.stack(labels)"
   ]
  },
  {
   "cell_type": "code",
   "execution_count": 19,
   "metadata": {},
   "outputs": [],
   "source": [
    "inputs,labels = get_xy(sequences,384)"
   ]
  },
  {
   "cell_type": "code",
   "execution_count": 20,
   "metadata": {},
   "outputs": [
    {
     "name": "stdout",
     "output_type": "stream",
     "text": [
      "(4934, 384)\n",
      "(4934, 384)\n"
     ]
    }
   ],
   "source": [
    "print(inputs.shape)\n",
    "print(labels.shape)"
   ]
  },
  {
   "cell_type": "code",
   "execution_count": 21,
   "metadata": {},
   "outputs": [],
   "source": [
    "class FactorizedConv(nn.Module):\n",
    "\tfeature:int\n",
    "\tkernel_size:int\n",
    "\n",
    "\t@nn.compact\n",
    "\tdef __call__(self,x):\n",
    "\t\tx = nn.Dense(self.feature)(x)\n",
    "\t\tx = nn.Conv(self.feature,self.kernel_size,feature_group_count=self.feature)(x)\n",
    "\t\treturn x"
   ]
  },
  {
   "cell_type": "code",
   "execution_count": 22,
   "metadata": {},
   "outputs": [],
   "source": [
    "class MLP(nn.Module):\n",
    "\tfeatures: Sequence[int]\n",
    "\n",
    "\t@nn.compact\n",
    "\tdef __call__(self,x):\n",
    "\t\tfor feature in self.features[:-1]:\n",
    "\t\t\tx = nn.relu(FactorizedConv(feature,3)(x))\n",
    "\t\tx = FactorizedConv(self.features[-1],3)(x)\n",
    "\t\tx = nn.LayerNorm()(x)\n",
    "\t\treturn x"
   ]
  },
  {
   "cell_type": "code",
   "execution_count": null,
   "metadata": {},
   "outputs": [],
   "source": [
    "class LongConvBlock(nn.Module):\n",
    "\tfeatures: Sequence[int]\n",
    "\tkernel_size:int\n",
    "\n",
    "\t@nn.compact\n",
    "\tdef __call__(self,x):\n",
    "\t\tfor feature in self.features[:-1]:\n",
    "\t\t\tx = nn.relu(FactorizedConv(feature,self.kernel_size)(x))\n",
    "\t\tx = FactorizedConv(self.features[-1],3)(x)\n",
    "\t\tx = nn.LayerNorm()(x)\n",
    "\t\treturn x"
   ]
  },
  {
   "cell_type": "code",
   "execution_count": 23,
   "metadata": {},
   "outputs": [],
   "source": [
    "def sin_pos_encode(x):\n",
    "\tembeddings = jnp.zeros((x.shape))\n",
    "\tbatch,length,dim = x.shape\n",
    "\tposition = jnp.arange(0,length)\n",
    "\tomega = jnp.exp(jnp.arange(0,dim,2) * math.log(10000)/dim)\n",
    "\tembeddings = embeddings.at[:,:,0::2].set(jnp.sin(einx.multiply(\"l,d -> l d\",position,omega)))\n",
    "\tembeddings = embeddings.at[:,:,1::2].set(jnp.cos(einx.multiply(\"l,d -> l d\",position,omega)))\n",
    "\n",
    "\treturn embeddings + x\n"
   ]
  },
  {
   "cell_type": "code",
   "execution_count": 24,
   "metadata": {},
   "outputs": [
    {
     "data": {
      "text/plain": [
       "2560000"
      ]
     },
     "execution_count": 24,
     "metadata": {},
     "output_type": "execute_result"
    }
   ],
   "source": [
    "512*5000"
   ]
  },
  {
   "cell_type": "code",
   "execution_count": 25,
   "metadata": {},
   "outputs": [],
   "source": [
    "class MaskedMHA(nn.Module):\n",
    "\thidden_dim:int\n",
    "\theads:int\n",
    "\n",
    "\t@nn.compact\n",
    "\tdef __call__(self,x,mask):\n",
    "\n",
    "\t\tproj = nn.Dense(3*self.hidden_dim)(x)\n",
    "\n",
    "\t\tq,k,v = einx.rearrange(\"b l (k d) -> k b l d\",proj,k=3)\n",
    "\n",
    "\t\tq = q * ((q.shape[-1] // self.heads) ** -0.5)\n",
    "\t\tattn = einx.dot(\"b q (h c), b k (h c) -> b q k h\", q, k, h=self.heads)\n",
    "\n",
    "\t\tattn = einx.where(\"b k, b q k h,\", mask, attn, -jnp.inf)\n",
    "\n",
    "\t\tattn = einx.softmax(\"b q [k] h\", attn)\n",
    "\t\ty = einx.dot(\"b q k h, b k (h c) -> b q (h c)\", attn, v)\n",
    "\n",
    "\t\treturn x + y\n",
    "\t\t"
   ]
  },
  {
   "cell_type": "code",
   "execution_count": 26,
   "metadata": {},
   "outputs": [],
   "source": [
    "class EncoderBlock(nn.Module):\n",
    "\thidden_dim:int\n",
    "\theads:int\n",
    "\texpansion_factor:int\n",
    "\n",
    "\t@nn.compact\n",
    "\tdef __call__(self,x,mask):\n",
    "\n",
    "\t\tx = x + nn.LayerNorm()(MaskedMHA(hidden_dim=self.hidden_dim,heads=self.heads)(x,mask))\n",
    "\t\tx = x + nn.LayerNorm()(MLP([self.hidden_dim*self.expansion_factor,self.hidden_dim])(x))\n",
    "\t\treturn x"
   ]
  },
  {
   "cell_type": "code",
   "execution_count": 27,
   "metadata": {},
   "outputs": [],
   "source": [
    "class Transformer(nn.Module):\n",
    "\tn_amino:int\n",
    "\tamino_dim:int\n",
    "\tn_heads:int\n",
    "\tn_layers:int\n",
    "\texpansion_factor:int\n",
    "\n",
    "\t@nn.compact\n",
    "\tdef __call__(self,x,mask):\n",
    "\t\tx = nn.Embed(self.n_amino,self.amino_dim)(x)\n",
    "\t\tx = sin_pos_encode(x)\n",
    "\n",
    "\t\tfor _ in range(self.n_layers):\n",
    "\t\t\tx = EncoderBlock(self.amino_dim,self.n_heads,self.expansion_factor)(x,mask)\n",
    "\n",
    "\t\treturn x"
   ]
  },
  {
   "cell_type": "code",
   "execution_count": 28,
   "metadata": {},
   "outputs": [],
   "source": [
    "class MaskedLM(nn.Module):\n",
    "\tn_amino:int\n",
    "\tamino_dim:int\n",
    "\tn_heads:int\n",
    "\tn_layers:int\n",
    "\texpansion_factor:int\n",
    "\n",
    "\tdef setup(self):\n",
    "\n",
    "\t\tself.transformer = Transformer(n_amino=self.n_amino,\n",
    "\t\t\t\t\t\t\t\t amino_dim=self.amino_dim,\n",
    "\t\t\t\t\t\t\t\t n_heads=self.n_heads,\n",
    "\t\t\t\t\t\t\t\t n_layers=self.n_layers,\n",
    "\t\t\t\t\t\t\t\t expansion_factor=self.expansion_factor)\n",
    "\t\t\n",
    "\t\tself.layer_norm = nn.LayerNorm()\n",
    "\t\tself.masked_lm_head = nn.Dense(self.n_amino)\n",
    "\t\tself.structure_head = nn.Dense(2)\n",
    "\n",
    "\tdef __call__(self,x,mask):\n",
    "\n",
    "\t\tx = self.transformer(x,mask)\n",
    "\t\tx = self.layer_norm(x)\n",
    "\t\treturn x\n",
    "\t\n",
    "\tdef lm_forward(self,x,mask):\n",
    "\t\tx = self(x,mask)\n",
    "\t\treturn self.masked_lm_head(x)\n",
    "\t\n",
    "\tdef structure_forward(self,x,mask):\n",
    "\t\tx = self(x,mask)\n",
    "\t\treturn self.structure_head(x)"
   ]
  },
  {
   "cell_type": "code",
   "execution_count": 29,
   "metadata": {},
   "outputs": [],
   "source": [
    "def mask_from_list(x,values):\n",
    "\n",
    "\tmask = jnp.zeros_like(x,dtype=jnp.bool)\n",
    "\n",
    "\tfor i in values:\n",
    "\t\tmask += (x == i)\n",
    "\n",
    "\treturn mask"
   ]
  },
  {
   "cell_type": "code",
   "execution_count": 30,
   "metadata": {},
   "outputs": [
    {
     "data": {
      "text/plain": [
       "23"
      ]
     },
     "execution_count": 30,
     "metadata": {},
     "output_type": "execute_result"
    }
   ],
   "source": [
    "len(amino_to_int_dict)"
   ]
  },
  {
   "cell_type": "code",
   "execution_count": 31,
   "metadata": {},
   "outputs": [],
   "source": [
    "model = MaskedLM(n_amino=len(amino_to_int_dict),\n",
    "\t\t\t\t\tamino_dim=32,\n",
    "\t\t\t\t\tn_heads=2,\n",
    "\t\t\t\t\tn_layers=6,\n",
    "\t\t\t\t\texpansion_factor=2)"
   ]
  },
  {
   "cell_type": "code",
   "execution_count": 32,
   "metadata": {},
   "outputs": [
    {
     "name": "stderr",
     "output_type": "stream",
     "text": [
      "2024-10-19 14:56:28.598416: E external/xla/xla/service/slow_operation_alarm.cc:65] Trying algorithm eng0{} for conv (f32[16,64,256]{2,1,0}, u8[0]{0}) custom-call(f32[16,64,256]{2,1,0}, f32[64,1,3]{2,1,0}), window={size=3 pad=1_1}, dim_labels=bf0_oi0->bf0, feature_group_count=64, custom_call_target=\"__cudnn$convForward\", backend_config={\"operation_queue_id\":\"0\",\"wait_on_operation_queues\":[],\"cudnn_conv_backend_config\":{\"conv_result_scale\":1,\"activation_mode\":\"kNone\",\"side_input_scale\":0,\"leakyrelu_alpha\":0},\"force_earliest_schedule\":false} is taking a while...\n",
      "2024-10-19 14:56:29.077847: E external/xla/xla/service/slow_operation_alarm.cc:133] The operation took 1.47952694s\n",
      "Trying algorithm eng0{} for conv (f32[16,64,256]{2,1,0}, u8[0]{0}) custom-call(f32[16,64,256]{2,1,0}, f32[64,1,3]{2,1,0}), window={size=3 pad=1_1}, dim_labels=bf0_oi0->bf0, feature_group_count=64, custom_call_target=\"__cudnn$convForward\", backend_config={\"operation_queue_id\":\"0\",\"wait_on_operation_queues\":[],\"cudnn_conv_backend_config\":{\"conv_result_scale\":1,\"activation_mode\":\"kNone\",\"side_input_scale\":0,\"leakyrelu_alpha\":0},\"force_earliest_schedule\":false} is taking a while...\n"
     ]
    }
   ],
   "source": [
    "batch = jnp.ones((16,256),dtype=jnp.int32)\n",
    "model_var = model.init(key,batch,mask_from_list(batch,[0]),method=\"structure_forward\")"
   ]
  },
  {
   "cell_type": "code",
   "execution_count": 34,
   "metadata": {},
   "outputs": [
    {
     "name": "stdout",
     "output_type": "stream",
     "text": [
      "\n",
      "\u001b[3m                                MaskedLM Summary                                \u001b[0m\n",
      "┏━━━━━━━━━━━━━━━┳━━━━━━━━━━━━━━━┳━━━━━━━━━━━━━━━┳━━━━━━━━━━━━━━┳━━━━━━━━━━━━━━━┓\n",
      "┃\u001b[1m \u001b[0m\u001b[1mpath         \u001b[0m\u001b[1m \u001b[0m┃\u001b[1m \u001b[0m\u001b[1mmodule       \u001b[0m\u001b[1m \u001b[0m┃\u001b[1m \u001b[0m\u001b[1minputs       \u001b[0m\u001b[1m \u001b[0m┃\u001b[1m \u001b[0m\u001b[1moutputs     \u001b[0m\u001b[1m \u001b[0m┃\u001b[1m \u001b[0m\u001b[1mparams       \u001b[0m\u001b[1m \u001b[0m┃\n",
      "┡━━━━━━━━━━━━━━━╇━━━━━━━━━━━━━━━╇━━━━━━━━━━━━━━━╇━━━━━━━━━━━━━━╇━━━━━━━━━━━━━━━┩\n",
      "│               │ MaskedLM      │ -             │ \u001b[2mfloat32\u001b[0m[2,3… │               │\n",
      "│               │               │ \u001b[2mint32\u001b[0m[2,384]  │              │               │\n",
      "│               │               │ - \u001b[2mbool\u001b[0m[2,384] │              │               │\n",
      "├───────────────┼───────────────┼───────────────┼──────────────┼───────────────┤\n",
      "│ transformer   │ Transformer   │ -             │ \u001b[2mfloat32\u001b[0m[2,3… │               │\n",
      "│               │               │ \u001b[2mint32\u001b[0m[2,384]  │              │               │\n",
      "│               │               │ - \u001b[2mbool\u001b[0m[2,384] │              │               │\n",
      "├───────────────┼───────────────┼───────────────┼──────────────┼───────────────┤\n",
      "│ transformer/… │ Embed         │ \u001b[2mint32\u001b[0m[2,384]  │ \u001b[2mfloat32\u001b[0m[2,3… │ embedding:    │\n",
      "│               │               │               │              │ \u001b[2mfloat32\u001b[0m[23,3… │\n",
      "│               │               │               │              │               │\n",
      "│               │               │               │              │ \u001b[1m736 \u001b[0m\u001b[1;2m(2.9 KB)\u001b[0m  │\n",
      "├───────────────┼───────────────┼───────────────┼──────────────┼───────────────┤\n",
      "│ transformer/… │ EncoderBlock  │ -             │ \u001b[2mfloat32\u001b[0m[2,3… │               │\n",
      "│               │               │ \u001b[2mfloat32\u001b[0m[2,38… │              │               │\n",
      "│               │               │ - \u001b[2mbool\u001b[0m[2,384] │              │               │\n",
      "├───────────────┼───────────────┼───────────────┼──────────────┼───────────────┤\n",
      "│ transformer/… │ MaskedMHA     │ -             │ \u001b[2mfloat32\u001b[0m[2,3… │               │\n",
      "│               │               │ \u001b[2mfloat32\u001b[0m[2,38… │              │               │\n",
      "│               │               │ - \u001b[2mbool\u001b[0m[2,384] │              │               │\n",
      "├───────────────┼───────────────┼───────────────┼──────────────┼───────────────┤\n",
      "│ transformer/… │ Dense         │ \u001b[2mfloat32\u001b[0m[2,38… │ \u001b[2mfloat32\u001b[0m[2,3… │ bias:         │\n",
      "│               │               │               │              │ \u001b[2mfloat32\u001b[0m[96]   │\n",
      "│               │               │               │              │ kernel:       │\n",
      "│               │               │               │              │ \u001b[2mfloat32\u001b[0m[32,9… │\n",
      "│               │               │               │              │               │\n",
      "│               │               │               │              │ \u001b[1m3,168 \u001b[0m\u001b[1;2m(12.7 \u001b[0m  │\n",
      "│               │               │               │              │ \u001b[1;2mKB)\u001b[0m           │\n",
      "├───────────────┼───────────────┼───────────────┼──────────────┼───────────────┤\n",
      "│ transformer/… │ LayerNorm     │ \u001b[2mfloat32\u001b[0m[2,38… │ \u001b[2mfloat32\u001b[0m[2,3… │ bias:         │\n",
      "│               │               │               │              │ \u001b[2mfloat32\u001b[0m[32]   │\n",
      "│               │               │               │              │ scale:        │\n",
      "│               │               │               │              │ \u001b[2mfloat32\u001b[0m[32]   │\n",
      "│               │               │               │              │               │\n",
      "│               │               │               │              │ \u001b[1m64 \u001b[0m\u001b[1;2m(256 B)\u001b[0m    │\n",
      "├───────────────┼───────────────┼───────────────┼──────────────┼───────────────┤\n",
      "│ transformer/… │ MLP           │ \u001b[2mfloat32\u001b[0m[2,38… │ \u001b[2mfloat32\u001b[0m[2,3… │               │\n",
      "├───────────────┼───────────────┼───────────────┼──────────────┼───────────────┤\n",
      "│ transformer/… │ FactorizedCo… │ \u001b[2mfloat32\u001b[0m[2,38… │ \u001b[2mfloat32\u001b[0m[2,3… │               │\n",
      "├───────────────┼───────────────┼───────────────┼──────────────┼───────────────┤\n",
      "│ transformer/… │ Dense         │ \u001b[2mfloat32\u001b[0m[2,38… │ \u001b[2mfloat32\u001b[0m[2,3… │ bias:         │\n",
      "│               │               │               │              │ \u001b[2mfloat32\u001b[0m[64]   │\n",
      "│               │               │               │              │ kernel:       │\n",
      "│               │               │               │              │ \u001b[2mfloat32\u001b[0m[32,6… │\n",
      "│               │               │               │              │               │\n",
      "│               │               │               │              │ \u001b[1m2,112 \u001b[0m\u001b[1;2m(8.4 \u001b[0m   │\n",
      "│               │               │               │              │ \u001b[1;2mKB)\u001b[0m           │\n",
      "├───────────────┼───────────────┼───────────────┼──────────────┼───────────────┤\n",
      "│ transformer/… │ Conv          │ \u001b[2mfloat32\u001b[0m[2,38… │ \u001b[2mfloat32\u001b[0m[2,3… │ bias:         │\n",
      "│               │               │               │              │ \u001b[2mfloat32\u001b[0m[64]   │\n",
      "│               │               │               │              │ kernel:       │\n",
      "│               │               │               │              │ \u001b[2mfloat32\u001b[0m[3,1,… │\n",
      "│               │               │               │              │               │\n",
      "│               │               │               │              │ \u001b[1m256 \u001b[0m\u001b[1;2m(1.0 KB)\u001b[0m  │\n",
      "├───────────────┼───────────────┼───────────────┼──────────────┼───────────────┤\n",
      "│ transformer/… │ FactorizedCo… │ \u001b[2mfloat32\u001b[0m[2,38… │ \u001b[2mfloat32\u001b[0m[2,3… │               │\n",
      "├───────────────┼───────────────┼───────────────┼──────────────┼───────────────┤\n",
      "│ transformer/… │ Dense         │ \u001b[2mfloat32\u001b[0m[2,38… │ \u001b[2mfloat32\u001b[0m[2,3… │ bias:         │\n",
      "│               │               │               │              │ \u001b[2mfloat32\u001b[0m[32]   │\n",
      "│               │               │               │              │ kernel:       │\n",
      "│               │               │               │              │ \u001b[2mfloat32\u001b[0m[64,3… │\n",
      "│               │               │               │              │               │\n",
      "│               │               │               │              │ \u001b[1m2,080 \u001b[0m\u001b[1;2m(8.3 \u001b[0m   │\n",
      "│               │               │               │              │ \u001b[1;2mKB)\u001b[0m           │\n",
      "├───────────────┼───────────────┼───────────────┼──────────────┼───────────────┤\n",
      "│ transformer/… │ Conv          │ \u001b[2mfloat32\u001b[0m[2,38… │ \u001b[2mfloat32\u001b[0m[2,3… │ bias:         │\n",
      "│               │               │               │              │ \u001b[2mfloat32\u001b[0m[32]   │\n",
      "│               │               │               │              │ kernel:       │\n",
      "│               │               │               │              │ \u001b[2mfloat32\u001b[0m[3,1,… │\n",
      "│               │               │               │              │               │\n",
      "│               │               │               │              │ \u001b[1m128 \u001b[0m\u001b[1;2m(512 B)\u001b[0m   │\n",
      "├───────────────┼───────────────┼───────────────┼──────────────┼───────────────┤\n",
      "│ transformer/… │ LayerNorm     │ \u001b[2mfloat32\u001b[0m[2,38… │ \u001b[2mfloat32\u001b[0m[2,3… │ bias:         │\n",
      "│               │               │               │              │ \u001b[2mfloat32\u001b[0m[32]   │\n",
      "│               │               │               │              │ scale:        │\n",
      "│               │               │               │              │ \u001b[2mfloat32\u001b[0m[32]   │\n",
      "│               │               │               │              │               │\n",
      "│               │               │               │              │ \u001b[1m64 \u001b[0m\u001b[1;2m(256 B)\u001b[0m    │\n",
      "├───────────────┼───────────────┼───────────────┼──────────────┼───────────────┤\n",
      "│ transformer/… │ LayerNorm     │ \u001b[2mfloat32\u001b[0m[2,38… │ \u001b[2mfloat32\u001b[0m[2,3… │ bias:         │\n",
      "│               │               │               │              │ \u001b[2mfloat32\u001b[0m[32]   │\n",
      "│               │               │               │              │ scale:        │\n",
      "│               │               │               │              │ \u001b[2mfloat32\u001b[0m[32]   │\n",
      "│               │               │               │              │               │\n",
      "│               │               │               │              │ \u001b[1m64 \u001b[0m\u001b[1;2m(256 B)\u001b[0m    │\n",
      "├───────────────┼───────────────┼───────────────┼──────────────┼───────────────┤\n",
      "│ transformer/… │ EncoderBlock  │ -             │ \u001b[2mfloat32\u001b[0m[2,3… │               │\n",
      "│               │               │ \u001b[2mfloat32\u001b[0m[2,38… │              │               │\n",
      "│               │               │ - \u001b[2mbool\u001b[0m[2,384] │              │               │\n",
      "├───────────────┼───────────────┼───────────────┼──────────────┼───────────────┤\n",
      "│ transformer/… │ MaskedMHA     │ -             │ \u001b[2mfloat32\u001b[0m[2,3… │               │\n",
      "│               │               │ \u001b[2mfloat32\u001b[0m[2,38… │              │               │\n",
      "│               │               │ - \u001b[2mbool\u001b[0m[2,384] │              │               │\n",
      "├───────────────┼───────────────┼───────────────┼──────────────┼───────────────┤\n",
      "│ transformer/… │ Dense         │ \u001b[2mfloat32\u001b[0m[2,38… │ \u001b[2mfloat32\u001b[0m[2,3… │ bias:         │\n",
      "│               │               │               │              │ \u001b[2mfloat32\u001b[0m[96]   │\n",
      "│               │               │               │              │ kernel:       │\n",
      "│               │               │               │              │ \u001b[2mfloat32\u001b[0m[32,9… │\n",
      "│               │               │               │              │               │\n",
      "│               │               │               │              │ \u001b[1m3,168 \u001b[0m\u001b[1;2m(12.7 \u001b[0m  │\n",
      "│               │               │               │              │ \u001b[1;2mKB)\u001b[0m           │\n",
      "├───────────────┼───────────────┼───────────────┼──────────────┼───────────────┤\n",
      "│ transformer/… │ LayerNorm     │ \u001b[2mfloat32\u001b[0m[2,38… │ \u001b[2mfloat32\u001b[0m[2,3… │ bias:         │\n",
      "│               │               │               │              │ \u001b[2mfloat32\u001b[0m[32]   │\n",
      "│               │               │               │              │ scale:        │\n",
      "│               │               │               │              │ \u001b[2mfloat32\u001b[0m[32]   │\n",
      "│               │               │               │              │               │\n",
      "│               │               │               │              │ \u001b[1m64 \u001b[0m\u001b[1;2m(256 B)\u001b[0m    │\n",
      "├───────────────┼───────────────┼───────────────┼──────────────┼───────────────┤\n",
      "│ transformer/… │ MLP           │ \u001b[2mfloat32\u001b[0m[2,38… │ \u001b[2mfloat32\u001b[0m[2,3… │               │\n",
      "├───────────────┼───────────────┼───────────────┼──────────────┼───────────────┤\n",
      "│ transformer/… │ FactorizedCo… │ \u001b[2mfloat32\u001b[0m[2,38… │ \u001b[2mfloat32\u001b[0m[2,3… │               │\n",
      "├───────────────┼───────────────┼───────────────┼──────────────┼───────────────┤\n",
      "│ transformer/… │ Dense         │ \u001b[2mfloat32\u001b[0m[2,38… │ \u001b[2mfloat32\u001b[0m[2,3… │ bias:         │\n",
      "│               │               │               │              │ \u001b[2mfloat32\u001b[0m[64]   │\n",
      "│               │               │               │              │ kernel:       │\n",
      "│               │               │               │              │ \u001b[2mfloat32\u001b[0m[32,6… │\n",
      "│               │               │               │              │               │\n",
      "│               │               │               │              │ \u001b[1m2,112 \u001b[0m\u001b[1;2m(8.4 \u001b[0m   │\n",
      "│               │               │               │              │ \u001b[1;2mKB)\u001b[0m           │\n",
      "├───────────────┼───────────────┼───────────────┼──────────────┼───────────────┤\n",
      "│ transformer/… │ Conv          │ \u001b[2mfloat32\u001b[0m[2,38… │ \u001b[2mfloat32\u001b[0m[2,3… │ bias:         │\n",
      "│               │               │               │              │ \u001b[2mfloat32\u001b[0m[64]   │\n",
      "│               │               │               │              │ kernel:       │\n",
      "│               │               │               │              │ \u001b[2mfloat32\u001b[0m[3,1,… │\n",
      "│               │               │               │              │               │\n",
      "│               │               │               │              │ \u001b[1m256 \u001b[0m\u001b[1;2m(1.0 KB)\u001b[0m  │\n",
      "├───────────────┼───────────────┼───────────────┼──────────────┼───────────────┤\n",
      "│ transformer/… │ FactorizedCo… │ \u001b[2mfloat32\u001b[0m[2,38… │ \u001b[2mfloat32\u001b[0m[2,3… │               │\n",
      "├───────────────┼───────────────┼───────────────┼──────────────┼───────────────┤\n",
      "│ transformer/… │ Dense         │ \u001b[2mfloat32\u001b[0m[2,38… │ \u001b[2mfloat32\u001b[0m[2,3… │ bias:         │\n",
      "│               │               │               │              │ \u001b[2mfloat32\u001b[0m[32]   │\n",
      "│               │               │               │              │ kernel:       │\n",
      "│               │               │               │              │ \u001b[2mfloat32\u001b[0m[64,3… │\n",
      "│               │               │               │              │               │\n",
      "│               │               │               │              │ \u001b[1m2,080 \u001b[0m\u001b[1;2m(8.3 \u001b[0m   │\n",
      "│               │               │               │              │ \u001b[1;2mKB)\u001b[0m           │\n",
      "├───────────────┼───────────────┼───────────────┼──────────────┼───────────────┤\n",
      "│ transformer/… │ Conv          │ \u001b[2mfloat32\u001b[0m[2,38… │ \u001b[2mfloat32\u001b[0m[2,3… │ bias:         │\n",
      "│               │               │               │              │ \u001b[2mfloat32\u001b[0m[32]   │\n",
      "│               │               │               │              │ kernel:       │\n",
      "│               │               │               │              │ \u001b[2mfloat32\u001b[0m[3,1,… │\n",
      "│               │               │               │              │               │\n",
      "│               │               │               │              │ \u001b[1m128 \u001b[0m\u001b[1;2m(512 B)\u001b[0m   │\n",
      "├───────────────┼───────────────┼───────────────┼──────────────┼───────────────┤\n",
      "│ transformer/… │ LayerNorm     │ \u001b[2mfloat32\u001b[0m[2,38… │ \u001b[2mfloat32\u001b[0m[2,3… │ bias:         │\n",
      "│               │               │               │              │ \u001b[2mfloat32\u001b[0m[32]   │\n",
      "│               │               │               │              │ scale:        │\n",
      "│               │               │               │              │ \u001b[2mfloat32\u001b[0m[32]   │\n",
      "│               │               │               │              │               │\n",
      "│               │               │               │              │ \u001b[1m64 \u001b[0m\u001b[1;2m(256 B)\u001b[0m    │\n",
      "├───────────────┼───────────────┼───────────────┼──────────────┼───────────────┤\n",
      "│ transformer/… │ LayerNorm     │ \u001b[2mfloat32\u001b[0m[2,38… │ \u001b[2mfloat32\u001b[0m[2,3… │ bias:         │\n",
      "│               │               │               │              │ \u001b[2mfloat32\u001b[0m[32]   │\n",
      "│               │               │               │              │ scale:        │\n",
      "│               │               │               │              │ \u001b[2mfloat32\u001b[0m[32]   │\n",
      "│               │               │               │              │               │\n",
      "│               │               │               │              │ \u001b[1m64 \u001b[0m\u001b[1;2m(256 B)\u001b[0m    │\n",
      "├───────────────┼───────────────┼───────────────┼──────────────┼───────────────┤\n",
      "│ transformer/… │ EncoderBlock  │ -             │ \u001b[2mfloat32\u001b[0m[2,3… │               │\n",
      "│               │               │ \u001b[2mfloat32\u001b[0m[2,38… │              │               │\n",
      "│               │               │ - \u001b[2mbool\u001b[0m[2,384] │              │               │\n",
      "├───────────────┼───────────────┼───────────────┼──────────────┼───────────────┤\n",
      "│ transformer/… │ MaskedMHA     │ -             │ \u001b[2mfloat32\u001b[0m[2,3… │               │\n",
      "│               │               │ \u001b[2mfloat32\u001b[0m[2,38… │              │               │\n",
      "│               │               │ - \u001b[2mbool\u001b[0m[2,384] │              │               │\n",
      "├───────────────┼───────────────┼───────────────┼──────────────┼───────────────┤\n",
      "│ transformer/… │ Dense         │ \u001b[2mfloat32\u001b[0m[2,38… │ \u001b[2mfloat32\u001b[0m[2,3… │ bias:         │\n",
      "│               │               │               │              │ \u001b[2mfloat32\u001b[0m[96]   │\n",
      "│               │               │               │              │ kernel:       │\n",
      "│               │               │               │              │ \u001b[2mfloat32\u001b[0m[32,9… │\n",
      "│               │               │               │              │               │\n",
      "│               │               │               │              │ \u001b[1m3,168 \u001b[0m\u001b[1;2m(12.7 \u001b[0m  │\n",
      "│               │               │               │              │ \u001b[1;2mKB)\u001b[0m           │\n",
      "├───────────────┼───────────────┼───────────────┼──────────────┼───────────────┤\n",
      "│ transformer/… │ LayerNorm     │ \u001b[2mfloat32\u001b[0m[2,38… │ \u001b[2mfloat32\u001b[0m[2,3… │ bias:         │\n",
      "│               │               │               │              │ \u001b[2mfloat32\u001b[0m[32]   │\n",
      "│               │               │               │              │ scale:        │\n",
      "│               │               │               │              │ \u001b[2mfloat32\u001b[0m[32]   │\n",
      "│               │               │               │              │               │\n",
      "│               │               │               │              │ \u001b[1m64 \u001b[0m\u001b[1;2m(256 B)\u001b[0m    │\n",
      "├───────────────┼───────────────┼───────────────┼──────────────┼───────────────┤\n",
      "│ transformer/… │ MLP           │ \u001b[2mfloat32\u001b[0m[2,38… │ \u001b[2mfloat32\u001b[0m[2,3… │               │\n",
      "├───────────────┼───────────────┼───────────────┼──────────────┼───────────────┤\n",
      "│ transformer/… │ FactorizedCo… │ \u001b[2mfloat32\u001b[0m[2,38… │ \u001b[2mfloat32\u001b[0m[2,3… │               │\n",
      "├───────────────┼───────────────┼───────────────┼──────────────┼───────────────┤\n",
      "│ transformer/… │ Dense         │ \u001b[2mfloat32\u001b[0m[2,38… │ \u001b[2mfloat32\u001b[0m[2,3… │ bias:         │\n",
      "│               │               │               │              │ \u001b[2mfloat32\u001b[0m[64]   │\n",
      "│               │               │               │              │ kernel:       │\n",
      "│               │               │               │              │ \u001b[2mfloat32\u001b[0m[32,6… │\n",
      "│               │               │               │              │               │\n",
      "│               │               │               │              │ \u001b[1m2,112 \u001b[0m\u001b[1;2m(8.4 \u001b[0m   │\n",
      "│               │               │               │              │ \u001b[1;2mKB)\u001b[0m           │\n",
      "├───────────────┼───────────────┼───────────────┼──────────────┼───────────────┤\n",
      "│ transformer/… │ Conv          │ \u001b[2mfloat32\u001b[0m[2,38… │ \u001b[2mfloat32\u001b[0m[2,3… │ bias:         │\n",
      "│               │               │               │              │ \u001b[2mfloat32\u001b[0m[64]   │\n",
      "│               │               │               │              │ kernel:       │\n",
      "│               │               │               │              │ \u001b[2mfloat32\u001b[0m[3,1,… │\n",
      "│               │               │               │              │               │\n",
      "│               │               │               │              │ \u001b[1m256 \u001b[0m\u001b[1;2m(1.0 KB)\u001b[0m  │\n",
      "├───────────────┼───────────────┼───────────────┼──────────────┼───────────────┤\n",
      "│ transformer/… │ FactorizedCo… │ \u001b[2mfloat32\u001b[0m[2,38… │ \u001b[2mfloat32\u001b[0m[2,3… │               │\n",
      "├───────────────┼───────────────┼───────────────┼──────────────┼───────────────┤\n",
      "│ transformer/… │ Dense         │ \u001b[2mfloat32\u001b[0m[2,38… │ \u001b[2mfloat32\u001b[0m[2,3… │ bias:         │\n",
      "│               │               │               │              │ \u001b[2mfloat32\u001b[0m[32]   │\n",
      "│               │               │               │              │ kernel:       │\n",
      "│               │               │               │              │ \u001b[2mfloat32\u001b[0m[64,3… │\n",
      "│               │               │               │              │               │\n",
      "│               │               │               │              │ \u001b[1m2,080 \u001b[0m\u001b[1;2m(8.3 \u001b[0m   │\n",
      "│               │               │               │              │ \u001b[1;2mKB)\u001b[0m           │\n",
      "├───────────────┼───────────────┼───────────────┼──────────────┼───────────────┤\n",
      "│ transformer/… │ Conv          │ \u001b[2mfloat32\u001b[0m[2,38… │ \u001b[2mfloat32\u001b[0m[2,3… │ bias:         │\n",
      "│               │               │               │              │ \u001b[2mfloat32\u001b[0m[32]   │\n",
      "│               │               │               │              │ kernel:       │\n",
      "│               │               │               │              │ \u001b[2mfloat32\u001b[0m[3,1,… │\n",
      "│               │               │               │              │               │\n",
      "│               │               │               │              │ \u001b[1m128 \u001b[0m\u001b[1;2m(512 B)\u001b[0m   │\n",
      "├───────────────┼───────────────┼───────────────┼──────────────┼───────────────┤\n",
      "│ transformer/… │ LayerNorm     │ \u001b[2mfloat32\u001b[0m[2,38… │ \u001b[2mfloat32\u001b[0m[2,3… │ bias:         │\n",
      "│               │               │               │              │ \u001b[2mfloat32\u001b[0m[32]   │\n",
      "│               │               │               │              │ scale:        │\n",
      "│               │               │               │              │ \u001b[2mfloat32\u001b[0m[32]   │\n",
      "│               │               │               │              │               │\n",
      "│               │               │               │              │ \u001b[1m64 \u001b[0m\u001b[1;2m(256 B)\u001b[0m    │\n",
      "├───────────────┼───────────────┼───────────────┼──────────────┼───────────────┤\n",
      "│ transformer/… │ LayerNorm     │ \u001b[2mfloat32\u001b[0m[2,38… │ \u001b[2mfloat32\u001b[0m[2,3… │ bias:         │\n",
      "│               │               │               │              │ \u001b[2mfloat32\u001b[0m[32]   │\n",
      "│               │               │               │              │ scale:        │\n",
      "│               │               │               │              │ \u001b[2mfloat32\u001b[0m[32]   │\n",
      "│               │               │               │              │               │\n",
      "│               │               │               │              │ \u001b[1m64 \u001b[0m\u001b[1;2m(256 B)\u001b[0m    │\n",
      "├───────────────┼───────────────┼───────────────┼──────────────┼───────────────┤\n",
      "│ transformer/… │ EncoderBlock  │ -             │ \u001b[2mfloat32\u001b[0m[2,3… │               │\n",
      "│               │               │ \u001b[2mfloat32\u001b[0m[2,38… │              │               │\n",
      "│               │               │ - \u001b[2mbool\u001b[0m[2,384] │              │               │\n",
      "├───────────────┼───────────────┼───────────────┼──────────────┼───────────────┤\n",
      "│ transformer/… │ MaskedMHA     │ -             │ \u001b[2mfloat32\u001b[0m[2,3… │               │\n",
      "│               │               │ \u001b[2mfloat32\u001b[0m[2,38… │              │               │\n",
      "│               │               │ - \u001b[2mbool\u001b[0m[2,384] │              │               │\n",
      "├───────────────┼───────────────┼───────────────┼──────────────┼───────────────┤\n",
      "│ transformer/… │ Dense         │ \u001b[2mfloat32\u001b[0m[2,38… │ \u001b[2mfloat32\u001b[0m[2,3… │ bias:         │\n",
      "│               │               │               │              │ \u001b[2mfloat32\u001b[0m[96]   │\n",
      "│               │               │               │              │ kernel:       │\n",
      "│               │               │               │              │ \u001b[2mfloat32\u001b[0m[32,9… │\n",
      "│               │               │               │              │               │\n",
      "│               │               │               │              │ \u001b[1m3,168 \u001b[0m\u001b[1;2m(12.7 \u001b[0m  │\n",
      "│               │               │               │              │ \u001b[1;2mKB)\u001b[0m           │\n",
      "├───────────────┼───────────────┼───────────────┼──────────────┼───────────────┤\n",
      "│ transformer/… │ LayerNorm     │ \u001b[2mfloat32\u001b[0m[2,38… │ \u001b[2mfloat32\u001b[0m[2,3… │ bias:         │\n",
      "│               │               │               │              │ \u001b[2mfloat32\u001b[0m[32]   │\n",
      "│               │               │               │              │ scale:        │\n",
      "│               │               │               │              │ \u001b[2mfloat32\u001b[0m[32]   │\n",
      "│               │               │               │              │               │\n",
      "│               │               │               │              │ \u001b[1m64 \u001b[0m\u001b[1;2m(256 B)\u001b[0m    │\n",
      "├───────────────┼───────────────┼───────────────┼──────────────┼───────────────┤\n",
      "│ transformer/… │ MLP           │ \u001b[2mfloat32\u001b[0m[2,38… │ \u001b[2mfloat32\u001b[0m[2,3… │               │\n",
      "├───────────────┼───────────────┼───────────────┼──────────────┼───────────────┤\n",
      "│ transformer/… │ FactorizedCo… │ \u001b[2mfloat32\u001b[0m[2,38… │ \u001b[2mfloat32\u001b[0m[2,3… │               │\n",
      "├───────────────┼───────────────┼───────────────┼──────────────┼───────────────┤\n",
      "│ transformer/… │ Dense         │ \u001b[2mfloat32\u001b[0m[2,38… │ \u001b[2mfloat32\u001b[0m[2,3… │ bias:         │\n",
      "│               │               │               │              │ \u001b[2mfloat32\u001b[0m[64]   │\n",
      "│               │               │               │              │ kernel:       │\n",
      "│               │               │               │              │ \u001b[2mfloat32\u001b[0m[32,6… │\n",
      "│               │               │               │              │               │\n",
      "│               │               │               │              │ \u001b[1m2,112 \u001b[0m\u001b[1;2m(8.4 \u001b[0m   │\n",
      "│               │               │               │              │ \u001b[1;2mKB)\u001b[0m           │\n",
      "├───────────────┼───────────────┼───────────────┼──────────────┼───────────────┤\n",
      "│ transformer/… │ Conv          │ \u001b[2mfloat32\u001b[0m[2,38… │ \u001b[2mfloat32\u001b[0m[2,3… │ bias:         │\n",
      "│               │               │               │              │ \u001b[2mfloat32\u001b[0m[64]   │\n",
      "│               │               │               │              │ kernel:       │\n",
      "│               │               │               │              │ \u001b[2mfloat32\u001b[0m[3,1,… │\n",
      "│               │               │               │              │               │\n",
      "│               │               │               │              │ \u001b[1m256 \u001b[0m\u001b[1;2m(1.0 KB)\u001b[0m  │\n",
      "├───────────────┼───────────────┼───────────────┼──────────────┼───────────────┤\n",
      "│ transformer/… │ FactorizedCo… │ \u001b[2mfloat32\u001b[0m[2,38… │ \u001b[2mfloat32\u001b[0m[2,3… │               │\n",
      "├───────────────┼───────────────┼───────────────┼──────────────┼───────────────┤\n",
      "│ transformer/… │ Dense         │ \u001b[2mfloat32\u001b[0m[2,38… │ \u001b[2mfloat32\u001b[0m[2,3… │ bias:         │\n",
      "│               │               │               │              │ \u001b[2mfloat32\u001b[0m[32]   │\n",
      "│               │               │               │              │ kernel:       │\n",
      "│               │               │               │              │ \u001b[2mfloat32\u001b[0m[64,3… │\n",
      "│               │               │               │              │               │\n",
      "│               │               │               │              │ \u001b[1m2,080 \u001b[0m\u001b[1;2m(8.3 \u001b[0m   │\n",
      "│               │               │               │              │ \u001b[1;2mKB)\u001b[0m           │\n",
      "├───────────────┼───────────────┼───────────────┼──────────────┼───────────────┤\n",
      "│ transformer/… │ Conv          │ \u001b[2mfloat32\u001b[0m[2,38… │ \u001b[2mfloat32\u001b[0m[2,3… │ bias:         │\n",
      "│               │               │               │              │ \u001b[2mfloat32\u001b[0m[32]   │\n",
      "│               │               │               │              │ kernel:       │\n",
      "│               │               │               │              │ \u001b[2mfloat32\u001b[0m[3,1,… │\n",
      "│               │               │               │              │               │\n",
      "│               │               │               │              │ \u001b[1m128 \u001b[0m\u001b[1;2m(512 B)\u001b[0m   │\n",
      "├───────────────┼───────────────┼───────────────┼──────────────┼───────────────┤\n",
      "│ transformer/… │ LayerNorm     │ \u001b[2mfloat32\u001b[0m[2,38… │ \u001b[2mfloat32\u001b[0m[2,3… │ bias:         │\n",
      "│               │               │               │              │ \u001b[2mfloat32\u001b[0m[32]   │\n",
      "│               │               │               │              │ scale:        │\n",
      "│               │               │               │              │ \u001b[2mfloat32\u001b[0m[32]   │\n",
      "│               │               │               │              │               │\n",
      "│               │               │               │              │ \u001b[1m64 \u001b[0m\u001b[1;2m(256 B)\u001b[0m    │\n",
      "├───────────────┼───────────────┼───────────────┼──────────────┼───────────────┤\n",
      "│ transformer/… │ LayerNorm     │ \u001b[2mfloat32\u001b[0m[2,38… │ \u001b[2mfloat32\u001b[0m[2,3… │ bias:         │\n",
      "│               │               │               │              │ \u001b[2mfloat32\u001b[0m[32]   │\n",
      "│               │               │               │              │ scale:        │\n",
      "│               │               │               │              │ \u001b[2mfloat32\u001b[0m[32]   │\n",
      "│               │               │               │              │               │\n",
      "│               │               │               │              │ \u001b[1m64 \u001b[0m\u001b[1;2m(256 B)\u001b[0m    │\n",
      "├───────────────┼───────────────┼───────────────┼──────────────┼───────────────┤\n",
      "│ transformer/… │ EncoderBlock  │ -             │ \u001b[2mfloat32\u001b[0m[2,3… │               │\n",
      "│               │               │ \u001b[2mfloat32\u001b[0m[2,38… │              │               │\n",
      "│               │               │ - \u001b[2mbool\u001b[0m[2,384] │              │               │\n",
      "├───────────────┼───────────────┼───────────────┼──────────────┼───────────────┤\n",
      "│ transformer/… │ MaskedMHA     │ -             │ \u001b[2mfloat32\u001b[0m[2,3… │               │\n",
      "│               │               │ \u001b[2mfloat32\u001b[0m[2,38… │              │               │\n",
      "│               │               │ - \u001b[2mbool\u001b[0m[2,384] │              │               │\n",
      "├───────────────┼───────────────┼───────────────┼──────────────┼───────────────┤\n",
      "│ transformer/… │ Dense         │ \u001b[2mfloat32\u001b[0m[2,38… │ \u001b[2mfloat32\u001b[0m[2,3… │ bias:         │\n",
      "│               │               │               │              │ \u001b[2mfloat32\u001b[0m[96]   │\n",
      "│               │               │               │              │ kernel:       │\n",
      "│               │               │               │              │ \u001b[2mfloat32\u001b[0m[32,9… │\n",
      "│               │               │               │              │               │\n",
      "│               │               │               │              │ \u001b[1m3,168 \u001b[0m\u001b[1;2m(12.7 \u001b[0m  │\n",
      "│               │               │               │              │ \u001b[1;2mKB)\u001b[0m           │\n",
      "├───────────────┼───────────────┼───────────────┼──────────────┼───────────────┤\n",
      "│ transformer/… │ LayerNorm     │ \u001b[2mfloat32\u001b[0m[2,38… │ \u001b[2mfloat32\u001b[0m[2,3… │ bias:         │\n",
      "│               │               │               │              │ \u001b[2mfloat32\u001b[0m[32]   │\n",
      "│               │               │               │              │ scale:        │\n",
      "│               │               │               │              │ \u001b[2mfloat32\u001b[0m[32]   │\n",
      "│               │               │               │              │               │\n",
      "│               │               │               │              │ \u001b[1m64 \u001b[0m\u001b[1;2m(256 B)\u001b[0m    │\n",
      "├───────────────┼───────────────┼───────────────┼──────────────┼───────────────┤\n",
      "│ transformer/… │ MLP           │ \u001b[2mfloat32\u001b[0m[2,38… │ \u001b[2mfloat32\u001b[0m[2,3… │               │\n",
      "├───────────────┼───────────────┼───────────────┼──────────────┼───────────────┤\n",
      "│ transformer/… │ FactorizedCo… │ \u001b[2mfloat32\u001b[0m[2,38… │ \u001b[2mfloat32\u001b[0m[2,3… │               │\n",
      "├───────────────┼───────────────┼───────────────┼──────────────┼───────────────┤\n",
      "│ transformer/… │ Dense         │ \u001b[2mfloat32\u001b[0m[2,38… │ \u001b[2mfloat32\u001b[0m[2,3… │ bias:         │\n",
      "│               │               │               │              │ \u001b[2mfloat32\u001b[0m[64]   │\n",
      "│               │               │               │              │ kernel:       │\n",
      "│               │               │               │              │ \u001b[2mfloat32\u001b[0m[32,6… │\n",
      "│               │               │               │              │               │\n",
      "│               │               │               │              │ \u001b[1m2,112 \u001b[0m\u001b[1;2m(8.4 \u001b[0m   │\n",
      "│               │               │               │              │ \u001b[1;2mKB)\u001b[0m           │\n",
      "├───────────────┼───────────────┼───────────────┼──────────────┼───────────────┤\n",
      "│ transformer/… │ Conv          │ \u001b[2mfloat32\u001b[0m[2,38… │ \u001b[2mfloat32\u001b[0m[2,3… │ bias:         │\n",
      "│               │               │               │              │ \u001b[2mfloat32\u001b[0m[64]   │\n",
      "│               │               │               │              │ kernel:       │\n",
      "│               │               │               │              │ \u001b[2mfloat32\u001b[0m[3,1,… │\n",
      "│               │               │               │              │               │\n",
      "│               │               │               │              │ \u001b[1m256 \u001b[0m\u001b[1;2m(1.0 KB)\u001b[0m  │\n",
      "├───────────────┼───────────────┼───────────────┼──────────────┼───────────────┤\n",
      "│ transformer/… │ FactorizedCo… │ \u001b[2mfloat32\u001b[0m[2,38… │ \u001b[2mfloat32\u001b[0m[2,3… │               │\n",
      "├───────────────┼───────────────┼───────────────┼──────────────┼───────────────┤\n",
      "│ transformer/… │ Dense         │ \u001b[2mfloat32\u001b[0m[2,38… │ \u001b[2mfloat32\u001b[0m[2,3… │ bias:         │\n",
      "│               │               │               │              │ \u001b[2mfloat32\u001b[0m[32]   │\n",
      "│               │               │               │              │ kernel:       │\n",
      "│               │               │               │              │ \u001b[2mfloat32\u001b[0m[64,3… │\n",
      "│               │               │               │              │               │\n",
      "│               │               │               │              │ \u001b[1m2,080 \u001b[0m\u001b[1;2m(8.3 \u001b[0m   │\n",
      "│               │               │               │              │ \u001b[1;2mKB)\u001b[0m           │\n",
      "├───────────────┼───────────────┼───────────────┼──────────────┼───────────────┤\n",
      "│ transformer/… │ Conv          │ \u001b[2mfloat32\u001b[0m[2,38… │ \u001b[2mfloat32\u001b[0m[2,3… │ bias:         │\n",
      "│               │               │               │              │ \u001b[2mfloat32\u001b[0m[32]   │\n",
      "│               │               │               │              │ kernel:       │\n",
      "│               │               │               │              │ \u001b[2mfloat32\u001b[0m[3,1,… │\n",
      "│               │               │               │              │               │\n",
      "│               │               │               │              │ \u001b[1m128 \u001b[0m\u001b[1;2m(512 B)\u001b[0m   │\n",
      "├───────────────┼───────────────┼───────────────┼──────────────┼───────────────┤\n",
      "│ transformer/… │ LayerNorm     │ \u001b[2mfloat32\u001b[0m[2,38… │ \u001b[2mfloat32\u001b[0m[2,3… │ bias:         │\n",
      "│               │               │               │              │ \u001b[2mfloat32\u001b[0m[32]   │\n",
      "│               │               │               │              │ scale:        │\n",
      "│               │               │               │              │ \u001b[2mfloat32\u001b[0m[32]   │\n",
      "│               │               │               │              │               │\n",
      "│               │               │               │              │ \u001b[1m64 \u001b[0m\u001b[1;2m(256 B)\u001b[0m    │\n",
      "├───────────────┼───────────────┼───────────────┼──────────────┼───────────────┤\n",
      "│ transformer/… │ LayerNorm     │ \u001b[2mfloat32\u001b[0m[2,38… │ \u001b[2mfloat32\u001b[0m[2,3… │ bias:         │\n",
      "│               │               │               │              │ \u001b[2mfloat32\u001b[0m[32]   │\n",
      "│               │               │               │              │ scale:        │\n",
      "│               │               │               │              │ \u001b[2mfloat32\u001b[0m[32]   │\n",
      "│               │               │               │              │               │\n",
      "│               │               │               │              │ \u001b[1m64 \u001b[0m\u001b[1;2m(256 B)\u001b[0m    │\n",
      "├───────────────┼───────────────┼───────────────┼──────────────┼───────────────┤\n",
      "│ transformer/… │ EncoderBlock  │ -             │ \u001b[2mfloat32\u001b[0m[2,3… │               │\n",
      "│               │               │ \u001b[2mfloat32\u001b[0m[2,38… │              │               │\n",
      "│               │               │ - \u001b[2mbool\u001b[0m[2,384] │              │               │\n",
      "├───────────────┼───────────────┼───────────────┼──────────────┼───────────────┤\n",
      "│ transformer/… │ MaskedMHA     │ -             │ \u001b[2mfloat32\u001b[0m[2,3… │               │\n",
      "│               │               │ \u001b[2mfloat32\u001b[0m[2,38… │              │               │\n",
      "│               │               │ - \u001b[2mbool\u001b[0m[2,384] │              │               │\n",
      "├───────────────┼───────────────┼───────────────┼──────────────┼───────────────┤\n",
      "│ transformer/… │ Dense         │ \u001b[2mfloat32\u001b[0m[2,38… │ \u001b[2mfloat32\u001b[0m[2,3… │ bias:         │\n",
      "│               │               │               │              │ \u001b[2mfloat32\u001b[0m[96]   │\n",
      "│               │               │               │              │ kernel:       │\n",
      "│               │               │               │              │ \u001b[2mfloat32\u001b[0m[32,9… │\n",
      "│               │               │               │              │               │\n",
      "│               │               │               │              │ \u001b[1m3,168 \u001b[0m\u001b[1;2m(12.7 \u001b[0m  │\n",
      "│               │               │               │              │ \u001b[1;2mKB)\u001b[0m           │\n",
      "├───────────────┼───────────────┼───────────────┼──────────────┼───────────────┤\n",
      "│ transformer/… │ LayerNorm     │ \u001b[2mfloat32\u001b[0m[2,38… │ \u001b[2mfloat32\u001b[0m[2,3… │ bias:         │\n",
      "│               │               │               │              │ \u001b[2mfloat32\u001b[0m[32]   │\n",
      "│               │               │               │              │ scale:        │\n",
      "│               │               │               │              │ \u001b[2mfloat32\u001b[0m[32]   │\n",
      "│               │               │               │              │               │\n",
      "│               │               │               │              │ \u001b[1m64 \u001b[0m\u001b[1;2m(256 B)\u001b[0m    │\n",
      "├───────────────┼───────────────┼───────────────┼──────────────┼───────────────┤\n",
      "│ transformer/… │ MLP           │ \u001b[2mfloat32\u001b[0m[2,38… │ \u001b[2mfloat32\u001b[0m[2,3… │               │\n",
      "├───────────────┼───────────────┼───────────────┼──────────────┼───────────────┤\n",
      "│ transformer/… │ FactorizedCo… │ \u001b[2mfloat32\u001b[0m[2,38… │ \u001b[2mfloat32\u001b[0m[2,3… │               │\n",
      "├───────────────┼───────────────┼───────────────┼──────────────┼───────────────┤\n",
      "│ transformer/… │ Dense         │ \u001b[2mfloat32\u001b[0m[2,38… │ \u001b[2mfloat32\u001b[0m[2,3… │ bias:         │\n",
      "│               │               │               │              │ \u001b[2mfloat32\u001b[0m[64]   │\n",
      "│               │               │               │              │ kernel:       │\n",
      "│               │               │               │              │ \u001b[2mfloat32\u001b[0m[32,6… │\n",
      "│               │               │               │              │               │\n",
      "│               │               │               │              │ \u001b[1m2,112 \u001b[0m\u001b[1;2m(8.4 \u001b[0m   │\n",
      "│               │               │               │              │ \u001b[1;2mKB)\u001b[0m           │\n",
      "├───────────────┼───────────────┼───────────────┼──────────────┼───────────────┤\n",
      "│ transformer/… │ Conv          │ \u001b[2mfloat32\u001b[0m[2,38… │ \u001b[2mfloat32\u001b[0m[2,3… │ bias:         │\n",
      "│               │               │               │              │ \u001b[2mfloat32\u001b[0m[64]   │\n",
      "│               │               │               │              │ kernel:       │\n",
      "│               │               │               │              │ \u001b[2mfloat32\u001b[0m[3,1,… │\n",
      "│               │               │               │              │               │\n",
      "│               │               │               │              │ \u001b[1m256 \u001b[0m\u001b[1;2m(1.0 KB)\u001b[0m  │\n",
      "├───────────────┼───────────────┼───────────────┼──────────────┼───────────────┤\n",
      "│ transformer/… │ FactorizedCo… │ \u001b[2mfloat32\u001b[0m[2,38… │ \u001b[2mfloat32\u001b[0m[2,3… │               │\n",
      "├───────────────┼───────────────┼───────────────┼──────────────┼───────────────┤\n",
      "│ transformer/… │ Dense         │ \u001b[2mfloat32\u001b[0m[2,38… │ \u001b[2mfloat32\u001b[0m[2,3… │ bias:         │\n",
      "│               │               │               │              │ \u001b[2mfloat32\u001b[0m[32]   │\n",
      "│               │               │               │              │ kernel:       │\n",
      "│               │               │               │              │ \u001b[2mfloat32\u001b[0m[64,3… │\n",
      "│               │               │               │              │               │\n",
      "│               │               │               │              │ \u001b[1m2,080 \u001b[0m\u001b[1;2m(8.3 \u001b[0m   │\n",
      "│               │               │               │              │ \u001b[1;2mKB)\u001b[0m           │\n",
      "├───────────────┼───────────────┼───────────────┼──────────────┼───────────────┤\n",
      "│ transformer/… │ Conv          │ \u001b[2mfloat32\u001b[0m[2,38… │ \u001b[2mfloat32\u001b[0m[2,3… │ bias:         │\n",
      "│               │               │               │              │ \u001b[2mfloat32\u001b[0m[32]   │\n",
      "│               │               │               │              │ kernel:       │\n",
      "│               │               │               │              │ \u001b[2mfloat32\u001b[0m[3,1,… │\n",
      "│               │               │               │              │               │\n",
      "│               │               │               │              │ \u001b[1m128 \u001b[0m\u001b[1;2m(512 B)\u001b[0m   │\n",
      "├───────────────┼───────────────┼───────────────┼──────────────┼───────────────┤\n",
      "│ transformer/… │ LayerNorm     │ \u001b[2mfloat32\u001b[0m[2,38… │ \u001b[2mfloat32\u001b[0m[2,3… │ bias:         │\n",
      "│               │               │               │              │ \u001b[2mfloat32\u001b[0m[32]   │\n",
      "│               │               │               │              │ scale:        │\n",
      "│               │               │               │              │ \u001b[2mfloat32\u001b[0m[32]   │\n",
      "│               │               │               │              │               │\n",
      "│               │               │               │              │ \u001b[1m64 \u001b[0m\u001b[1;2m(256 B)\u001b[0m    │\n",
      "├───────────────┼───────────────┼───────────────┼──────────────┼───────────────┤\n",
      "│ transformer/… │ LayerNorm     │ \u001b[2mfloat32\u001b[0m[2,38… │ \u001b[2mfloat32\u001b[0m[2,3… │ bias:         │\n",
      "│               │               │               │              │ \u001b[2mfloat32\u001b[0m[32]   │\n",
      "│               │               │               │              │ scale:        │\n",
      "│               │               │               │              │ \u001b[2mfloat32\u001b[0m[32]   │\n",
      "│               │               │               │              │               │\n",
      "│               │               │               │              │ \u001b[1m64 \u001b[0m\u001b[1;2m(256 B)\u001b[0m    │\n",
      "├───────────────┼───────────────┼───────────────┼──────────────┼───────────────┤\n",
      "│ layer_norm    │ LayerNorm     │ \u001b[2mfloat32\u001b[0m[2,38… │ \u001b[2mfloat32\u001b[0m[2,3… │ bias:         │\n",
      "│               │               │               │              │ \u001b[2mfloat32\u001b[0m[32]   │\n",
      "│               │               │               │              │ scale:        │\n",
      "│               │               │               │              │ \u001b[2mfloat32\u001b[0m[32]   │\n",
      "│               │               │               │              │               │\n",
      "│               │               │               │              │ \u001b[1m64 \u001b[0m\u001b[1;2m(256 B)\u001b[0m    │\n",
      "├───────────────┼───────────────┼───────────────┼──────────────┼───────────────┤\n",
      "│\u001b[1m \u001b[0m\u001b[1m             \u001b[0m\u001b[1m \u001b[0m│\u001b[1m \u001b[0m\u001b[1m             \u001b[0m\u001b[1m \u001b[0m│\u001b[1m \u001b[0m\u001b[1m             \u001b[0m\u001b[1m \u001b[0m│\u001b[1m \u001b[0m\u001b[1m       Total\u001b[0m\u001b[1m \u001b[0m│\u001b[1m \u001b[0m\u001b[1m48,416 \u001b[0m\u001b[1;2m(193.7\u001b[0m\u001b[1m \u001b[0m│\n",
      "│\u001b[1m               \u001b[0m│\u001b[1m               \u001b[0m│\u001b[1m               \u001b[0m│\u001b[1m              \u001b[0m│\u001b[1m \u001b[0m\u001b[1;2mKB)\u001b[0m\u001b[1m          \u001b[0m\u001b[1m \u001b[0m│\n",
      "└───────────────┴───────────────┴───────────────┴──────────────┴───────────────┘\n",
      "\u001b[1m                                                                                \u001b[0m\n",
      "\u001b[1m                      Total Parameters: 48,416 \u001b[0m\u001b[1;2m(193.7 KB)\u001b[0m\u001b[1m                       \u001b[0m\n",
      "\n",
      "\n"
     ]
    }
   ],
   "source": [
    "print(nn.tabulate(model,key)(inputs[0:2],mask_from_list(inputs[0:2],[0,1,2])))"
   ]
  },
  {
   "cell_type": "code",
   "execution_count": 35,
   "metadata": {},
   "outputs": [],
   "source": [
    "def masked_cross_entropy_loss(logits, labels, mask):\n",
    "    loss = optax.softmax_cross_entropy(logits, one_hot(labels, logits.shape[-1]))\n",
    "    masked_loss = loss * mask\n",
    "    return jnp.sum(masked_loss) / jnp.sum(mask)\n",
    "\n",
    "def one_hot(x, num_classes):\n",
    "    return jnp.eye(num_classes)[x]\n"
   ]
  },
  {
   "cell_type": "code",
   "execution_count": 36,
   "metadata": {},
   "outputs": [],
   "source": [
    "def loss_fn(vars,x,mask,y,pred_mask):\n",
    "\n",
    "\ty_pred = model.apply(vars,x,mask,method=MaskedLM.structure_forward)\n",
    "\tloss = masked_cross_entropy_loss(y_pred,y,pred_mask)\n",
    "\treturn loss"
   ]
  },
  {
   "cell_type": "code",
   "execution_count": 37,
   "metadata": {},
   "outputs": [],
   "source": [
    "\n",
    "def masked_accuracy(logits, labels, mask):\n",
    "    predictions = jnp.argmax(logits, axis=-1)\n",
    "    correct_predictions = (predictions == labels) * mask\n",
    "    accuracy = jnp.sum(correct_predictions) / jnp.sum(mask)\n",
    "    return accuracy\n"
   ]
  },
  {
   "cell_type": "code",
   "execution_count": 38,
   "metadata": {},
   "outputs": [],
   "source": [
    "def train_val_split(key,x,y,p):\n",
    "\n",
    "\tpermutations = random.permutation(key,jnp.arange(len(x)))\n",
    "\tp = int(len(x)*p)\n",
    "\n",
    "\treturn x[permutations[:p]],y[permutations[:p]],x[permutations[p:]],y[permutations[p:]]"
   ]
  },
  {
   "cell_type": "code",
   "execution_count": 39,
   "metadata": {},
   "outputs": [],
   "source": [
    "x_test,y_test,x_train,y_train = train_val_split(key,inputs,labels,0.05)"
   ]
  },
  {
   "cell_type": "code",
   "execution_count": 40,
   "metadata": {},
   "outputs": [],
   "source": [
    "def get_batch_idx(key,n,batch_size,shuffle=True):\n",
    "\n",
    "\tif shuffle:\n",
    "\t\tpermutations = random.permutation(key,jnp.arange(n))\n",
    "\telse:\n",
    "\t\tpermutations = jnp.arange(n)\n",
    "\t\n",
    "\tpermutations = permutations[0:batch_size*(n//batch_size)]\n",
    "\tbatches = einx.rearrange(\"(n b) -> n b\",permutations,b=batch_size)\n",
    "\n",
    "\treturn batches"
   ]
  },
  {
   "cell_type": "code",
   "execution_count": 41,
   "metadata": {},
   "outputs": [],
   "source": [
    "amp = True"
   ]
  },
  {
   "cell_type": "code",
   "execution_count": 42,
   "metadata": {},
   "outputs": [],
   "source": [
    "policy = jmp.Policy(\n",
    "    param_dtype=jnp.float32,\n",
    "    compute_dtype=jnp.bfloat16 if amp else jnp.float32,\n",
    "    output_dtype=jnp.bfloat16 if amp else jnp.float32,\n",
    ")"
   ]
  },
  {
   "cell_type": "code",
   "execution_count": 43,
   "metadata": {},
   "outputs": [],
   "source": [
    "def lm_mask(pad_mask,p=0.1):\n",
    "\tmask = random.uniform((pad_mask.shape))>(1-p)\n",
    "\treturn jnp.logical_and(mask,jnp.logical_not(pad_mask))"
   ]
  },
  {
   "cell_type": "code",
   "execution_count": 44,
   "metadata": {},
   "outputs": [],
   "source": [
    "def structure_mask(pad_mask):\n",
    "\treturn jnp.logical_not(pad_mask)"
   ]
  },
  {
   "cell_type": "code",
   "execution_count": 46,
   "metadata": {},
   "outputs": [],
   "source": [
    "def custom_train(model,\n",
    "\t\t\t\t key,\n",
    "\t\t\t\t model_var,\n",
    "\t\t\t\t mask_function,\n",
    "\t\t\t\t x_train,\n",
    "\t\t\t\t y_train,\n",
    "\t\t\t\t x_test,\n",
    "\t\t\t\t y_test,\n",
    "\t\t\t\t batch_size,\n",
    "\t\t\t\t forward,\n",
    "\t\t\t\t n_epochs,\n",
    "\t\t\t\t policy,):\n",
    "\t\n",
    "\tdef loss_fn(vars,x,mask,y,pred_mask,loss_scale):\n",
    "\n",
    "\t\ty_pred = model.apply(vars,x,mask,method=forward)\n",
    "\t\tloss = masked_cross_entropy_loss(y_pred,y,pred_mask)\n",
    "\t\tacc = masked_accuracy(y_pred,y,pred_mask)\n",
    "\t\tloss = loss_scale.scale(loss)\n",
    "\t\treturn loss,(acc)\n",
    "\t\n",
    "\tdef val_loop(model_var,\n",
    "\t\t\t key,\n",
    "\t\t\t x_test,\n",
    "\t\t\t y_test,\n",
    "\t\t\t batch_size,\n",
    "\t\t\t func,\n",
    "\t\t\t loss_scale):\n",
    "\t\t\n",
    "\t\tbatches = get_batch_idx(key,len(x_test),batch_size,False) \n",
    "\n",
    "\t\tval_losses = []\n",
    "\t\tval_acc = []\n",
    "\n",
    "\t\tparams = policy.cast_to_compute(model_var)\n",
    "\n",
    "\t\tfor b,indices in enumerate(batches):\n",
    "\n",
    "\t\t\tx_batch = x_test[indices]\n",
    "\t\t\ty_batch = y_test[indices]\n",
    "\n",
    "\t\t\tpad_mask = mask_from_list(x_batch,[0,1])\n",
    "\n",
    "\t\t\tmasked = mask_function(pad_mask)\n",
    "\n",
    "\t\t\tloss,(acc)= func(model_var,x_batch,pad_mask,y_batch,masked,loss_scale)\n",
    "\n",
    "\t\t\tloss = loss_scale.unscale(loss)\n",
    "\n",
    "\t\t\tval_losses.append(loss.item())\n",
    "\t\t\tval_acc.append(acc)\n",
    "\n",
    "\t\treturn np.mean(val_losses),np.mean(val_acc)\n",
    "\t\n",
    "\n",
    "\t\n",
    "\toptimizer = optax.adamw(learning_rate=1E-3,weight_decay=1E-2)\n",
    "\topt_state = optimizer.init(model_var)\n",
    "\tloss_grad_fn = jax.value_and_grad(loss_fn,has_aux=True)\n",
    "\tloss_grad_fn = jax.jit(loss_grad_fn)\n",
    "\tjit_loss_acc = jax.jit(loss_fn)\n",
    "\n",
    "\tloss_scale = jmp.DynamicLossScale(jnp.float32(2**15))\n",
    "\n",
    "\tskip_infinite = isinstance(loss_scale, jmp.DynamicLossScale)\n",
    "\n",
    "\tval_acc_results = []\n",
    "\ttrain_acc_results = []\n",
    "\n",
    "\tfor epoch in range(n_epochs):\n",
    "\n",
    "\t\tbatches = get_batch_idx(key,len(x_train),batch_size,True)\n",
    "\n",
    "\t\tlosses = []\n",
    "\t\taccuracies = []\n",
    "\n",
    "\t\tfor b,indices in enumerate(batches):\n",
    "\n",
    "\t\t\tparams = policy.cast_to_compute(model_var)\n",
    "\n",
    "\t\t\tx_batch = x_train[indices]\n",
    "\t\t\ty_batch = y_train[indices]\n",
    "\n",
    "\t\t\tpad_mask = mask_from_list(x_batch,[0,1])\n",
    "\n",
    "\t\t\tmasked = mask_function(pad_mask)\n",
    "\n",
    "\t\t\t(loss,(acc)),grad = loss_grad_fn(params,x_batch,pad_mask,y_batch,masked,loss_scale)\n",
    "\n",
    "\t\t\tloss = loss_scale.unscale(loss)\n",
    "\n",
    "\t\t\tgrad = policy.cast_to_param(grad)\n",
    "\n",
    "\t\t\tgrad = loss_scale.unscale(grad)\n",
    "\n",
    "\t\t\tif skip_infinite:\n",
    "\t\t\t\tgrad_finite = jmp.all_finite(grad)\n",
    "\t\t\t\tloss_scale = loss_scale.adjust(grad_finite)\n",
    "\t\t\t\tupdates,opt_state = optimizer.update(grad,opt_state,model_var)\n",
    "\t\t\t\tmodel_var = jmp.select_tree(grad_finite,optax.apply_updates(model_var,updates),\n",
    "\t\t\t\t\t\t\t model_var)\n",
    "\t\t\t\t\n",
    "\t\t\telse:\n",
    "\t\t\t\tupdates,opt_state = optimizer.update(grad,opt_state,model_var)\n",
    "\t\t\t\tmodel_var = optax.apply_updates(model_var,updates)\n",
    "\n",
    "\t\t\tlosses.append(loss.item())\n",
    "\t\t\taccuracies.append(acc)\n",
    "\n",
    "\t\tval_loss,val_acc = val_loop(model_var,key,x_test,y_test,batch_size,jit_loss_acc,loss_scale)\n",
    "\n",
    "\t\ttrain_acc_results.append(np.mean(accuracies))\n",
    "\t\tval_acc_results.append(val_acc)\n",
    "\n",
    "\t\tprint(f\"Training loss: {np.mean(losses)} | Training acc: {np.mean(accuracies)} | Val loss: {val_loss} | Vall acc: {val_acc}\")\n",
    "\n",
    "\treturn train_acc_results,val_acc_results\n"
   ]
  },
  {
   "cell_type": "code",
   "execution_count": 47,
   "metadata": {},
   "outputs": [
    {
     "name": "stdout",
     "output_type": "stream",
     "text": [
      "Training loss: 0.6563976382556027 | Training acc: 0.6213165521621704 | Val loss: 0.5877815910748073 | Vall acc: 0.6895515322685242\n",
      "Training loss: 0.5719930345881475 | Training acc: 0.7028025984764099 | Val loss: 0.5539684125355312 | Vall acc: 0.715394914150238\n",
      "Training loss: 0.5513856719209723 | Training acc: 0.7193717956542969 | Val loss: 0.5428883177893502 | Vall acc: 0.7256947755813599\n",
      "Training loss: 0.5419283098962209 | Training acc: 0.726730227470398 | Val loss: 0.5371461851256234 | Vall acc: 0.7306972742080688\n",
      "Training loss: 0.5361941842591926 | Training acc: 0.7311421036720276 | Val loss: 0.5332152162279401 | Vall acc: 0.7337771654129028\n",
      "Training loss: 0.5320346102322617 | Training acc: 0.7339268922805786 | Val loss: 0.5299125228609357 | Vall acc: 0.7356956601142883\n",
      "Training loss: 0.5281043593605904 | Training acc: 0.7369402050971985 | Val loss: 0.527338581425803 | Vall acc: 0.7390700578689575\n",
      "Training loss: 0.521378271383782 | Training acc: 0.7421257495880127 | Val loss: 0.5170573932783944 | Vall acc: 0.7448530197143555\n",
      "Training loss: 0.499841377343217 | Training acc: 0.7585811614990234 | Val loss: 0.4969582089356014 | Vall acc: 0.7584267258644104\n",
      "Training loss: 0.4823726138023481 | Training acc: 0.7708783745765686 | Val loss: 0.48797199555805754 | Vall acc: 0.7643525004386902\n",
      "Training loss: 0.4733346761905984 | Training acc: 0.7770562171936035 | Val loss: 0.48039059553827557 | Vall acc: 0.7680469751358032\n",
      "Training loss: 0.4668471286558125 | Training acc: 0.7812960147857666 | Val loss: 0.4762711099215916 | Vall acc: 0.7711798548698425\n",
      "Training loss: 0.46126205116918645 | Training acc: 0.784447431564331 | Val loss: 0.47140858854566303 | Vall acc: 0.7752218246459961\n",
      "Training loss: 0.4566342342798024 | Training acc: 0.7874518036842346 | Val loss: 0.46894713810511995 | Vall acc: 0.7769074440002441\n",
      "Training loss: 0.4526186416002169 | Training acc: 0.7901182770729065 | Val loss: 0.46717038324901033 | Vall acc: 0.7781224250793457\n",
      "Training loss: 0.4492328544593837 | Training acc: 0.7920594811439514 | Val loss: 0.4653494230338505 | Vall acc: 0.7795776128768921\n",
      "Training loss: 0.44617613109007276 | Training acc: 0.7939074039459229 | Val loss: 0.46469748871667044 | Vall acc: 0.7802042961120605\n",
      "Training loss: 0.4430268986584389 | Training acc: 0.7961457371711731 | Val loss: 0.46415784529277254 | Vall acc: 0.7796316146850586\n",
      "Training loss: 0.43968480253872805 | Training acc: 0.797888457775116 | Val loss: 0.46272910067013334 | Vall acc: 0.7817449569702148\n",
      "Training loss: 0.4369942988843134 | Training acc: 0.7992202639579773 | Val loss: 0.462227212531226 | Vall acc: 0.7835457921028137\n",
      "Training loss: 0.4345398579966532 | Training acc: 0.8007944226264954 | Val loss: 0.4627828981195177 | Vall acc: 0.7823905944824219\n",
      "Training loss: 0.43251618926655755 | Training acc: 0.8020898699760437 | Val loss: 0.4605780243873596 | Vall acc: 0.7851081490516663\n",
      "Training loss: 0.42991813792757794 | Training acc: 0.8035427331924438 | Val loss: 0.4594315120152065 | Vall acc: 0.7860246300697327\n",
      "Training loss: 0.4276985170906537 | Training acc: 0.8049483895301819 | Val loss: 0.46114145857947214 | Vall acc: 0.7846420407295227\n",
      "Training loss: 0.42592220518687 | Training acc: 0.8057570457458496 | Val loss: 0.45997525112969534 | Vall acc: 0.7855461835861206\n",
      "Training loss: 0.42368369151468144 | Training acc: 0.8071481585502625 | Val loss: 0.46264101352010456 | Vall acc: 0.7836310267448425\n",
      "Training loss: 0.42115938193994024 | Training acc: 0.8083519339561462 | Val loss: 0.4635409116744995 | Vall acc: 0.7828508019447327\n",
      "Training loss: 0.41947370788005933 | Training acc: 0.8093430995941162 | Val loss: 0.46420128856386456 | Vall acc: 0.7835081219673157\n",
      "Training loss: 0.41760289975225107 | Training acc: 0.8108227252960205 | Val loss: 0.4637525464807238 | Vall acc: 0.7824376225471497\n",
      "Training loss: 0.41670865371619187 | Training acc: 0.8115179538726807 | Val loss: 0.46650141903332304 | Vall acc: 0.7825596928596497\n",
      "Training loss: 0.41421780112671525 | Training acc: 0.8127735257148743 | Val loss: 0.4634519006524767 | Vall acc: 0.7831980586051941\n",
      "Training loss: 0.41256257442578875 | Training acc: 0.81385737657547 | Val loss: 0.46725039396967205 | Vall acc: 0.7823616862297058\n",
      "Training loss: 0.410272212265289 | Training acc: 0.8152579665184021 | Val loss: 0.4661737765584673 | Vall acc: 0.7835984230041504\n",
      "Training loss: 0.4093810740399034 | Training acc: 0.8156823515892029 | Val loss: 0.4657380240304129 | Vall acc: 0.7840989232063293\n",
      "Training loss: 0.4079423011982278 | Training acc: 0.8163496851921082 | Val loss: 0.4661024681159428 | Vall acc: 0.7829047441482544\n",
      "Training loss: 0.40668879673905567 | Training acc: 0.8168443441390991 | Val loss: 0.46348383171217783 | Vall acc: 0.7844434976577759\n",
      "Training loss: 0.4060634194988094 | Training acc: 0.817523717880249 | Val loss: 0.46435638836451937 | Vall acc: 0.7843865156173706\n",
      "Training loss: 0.40348368862720385 | Training acc: 0.8189994096755981 | Val loss: 0.46798345020839144 | Vall acc: 0.7829920649528503\n",
      "Training loss: 0.4020034260537526 | Training acc: 0.8199059367179871 | Val loss: 0.4679803337369646 | Vall acc: 0.7826770544052124\n",
      "Training loss: 0.4002156327032063 | Training acc: 0.8208410143852234 | Val loss: 0.46669877001217436 | Vall acc: 0.7848224639892578\n",
      "Training loss: 0.39825041510470927 | Training acc: 0.8220465779304504 | Val loss: 0.4680634183543069 | Vall acc: 0.7823881506919861\n",
      "Training loss: 0.39744369073273383 | Training acc: 0.8223722577095032 | Val loss: 0.46929225751331877 | Vall acc: 0.7814465761184692\n",
      "Training loss: 0.3971773328846448 | Training acc: 0.822399377822876 | Val loss: 0.4741375744342804 | Vall acc: 0.7803853154182434\n",
      "Training loss: 0.3955706964208655 | Training acc: 0.8233029842376709 | Val loss: 0.4719024215425764 | Vall acc: 0.7792742848396301\n",
      "Training loss: 0.39460499666325033 | Training acc: 0.8238298892974854 | Val loss: 0.47433883803231375 | Vall acc: 0.7784551978111267\n",
      "Training loss: 0.3927604204987826 | Training acc: 0.8248818516731262 | Val loss: 0.47658704434122356 | Vall acc: 0.7798687219619751\n",
      "Training loss: 0.3914230880263734 | Training acc: 0.82586270570755 | Val loss: 0.4741598239966801 | Vall acc: 0.7797823548316956\n",
      "Training loss: 0.38973613205837876 | Training acc: 0.8261330723762512 | Val loss: 0.47818356326648165 | Vall acc: 0.7789878249168396\n",
      "Training loss: 0.3885402226284759 | Training acc: 0.8272580504417419 | Val loss: 0.48032343813351225 | Vall acc: 0.7781697511672974\n",
      "Training loss: 0.3870455783932176 | Training acc: 0.8277059197425842 | Val loss: 0.48156489218984333 | Vall acc: 0.7775856256484985\n"
     ]
    }
   ],
   "source": [
    "train_acc,val_acc = custom_train(model=model,\n",
    "\t\t\t key=key,\n",
    "\t\t\t model_var=model_var,\n",
    "\t\t\t x_train=x_train,\n",
    "\t\t\t y_train=y_train,\n",
    "\t\t\t x_test=x_test,\n",
    "\t\t\t y_test=y_test,\n",
    "\t\t\t batch_size=32,\n",
    "\t\t\t forward=MaskedLM.structure_forward,\n",
    "\t\t\t mask_function=structure_mask,\n",
    "\t\t\t n_epochs=50,\n",
    "\t\t\t policy=policy)"
   ]
  },
  {
   "cell_type": "code",
   "execution_count": 49,
   "metadata": {},
   "outputs": [
    {
     "data": {
      "text/plain": [
       "[<matplotlib.lines.Line2D at 0x7f970c7f2650>]"
      ]
     },
     "execution_count": 49,
     "metadata": {},
     "output_type": "execute_result"
    },
    {
     "data": {
      "image/png": "[encoded data removed]",
      "text/plain": [
       "<Figure size 640x480 with 1 Axes>"
      ]
     },
     "metadata": {},
     "output_type": "display_data"
    }
   ],
   "source": [
    "plt.plot(train_acc)\n",
    "plt.plot(val_acc)"
   ]
  },
  {
   "cell_type": "markdown",
   "metadata": {},
   "source": [
    "- We first have to worry about processing\n",
    "1. We need to get the data into lists of tuples (sequence,length,labels)\n",
    "2. We tokenize the sequences and binarize the labels\n",
    "3. We construct (tokenized) input/output sequences with maximum length\n",
    "4. Probably select a cutoff length\n",
    "   - let's say 512\n",
    "\n",
    "- Once we have the inputs and output pairs we can move into training\n",
    "- Implementing the neural network is trivial and independent of the task\n",
    "- Afterwards, there are two ways of training the neural network\n",
    "  - direct supervised training\n",
    "  - masked language modeling - as you would with AlphaFold,ESMFold,... - followed by supervised training\n",
    "  - this is a cute blog post\n",
    "\n",
    "- There are \"only\" like 5000 sequences which may be somewhat small for deep-learning applications (unclear with masked modeling?)\n",
    "  - in any case, we may want to perform data augmentation by randomly switching similar amino-acids together?\n",
    "  - the other option would be to reduce the dictionnary size?\n",
    "    - I feel like having augmentations would have the same effect as restricting the dictionnary"
   ]
  },
  {
   "cell_type": "markdown",
   "metadata": {},
   "source": []
  }
 ],
 "metadata": {
  "kernelspec": {
   "display_name": "neuroai",
   "language": "python",
   "name": "python3"
  },
  "language_info": {
   "codemirror_mode": {
    "name": "ipython",
    "version": 3
   },
   "file_extension": ".py",
   "mimetype": "text/x-python",
   "name": "python",
   "nbconvert_exporter": "python",
   "pygments_lexer": "ipython3",
   "version": "3.11.9"
  }
 },
 "nbformat": 4,
 "nbformat_minor": 2
}
